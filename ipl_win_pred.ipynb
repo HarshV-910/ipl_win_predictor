{
  "cells": [
    {
      "cell_type": "code",
      "execution_count": 1,
      "metadata": {
        "id": "2whTTjEQNI_H"
      },
      "outputs": [],
      "source": [
        "import pandas as pd\n",
        "import numpy as np\n",
        "from sklearn.model_selection import train_test_split\n",
        "from sklearn.compose import ColumnTransformer\n",
        "from sklearn.preprocessing import OneHotEncoder,LabelEncoder\n",
        "from sklearn.linear_model import LogisticRegression\n",
        "from sklearn.metrics import accuracy_score\n",
        "import pickle\n",
        "from sklearn.pipeline import Pipeline\n"
      ]
    },
    {
      "cell_type": "code",
      "execution_count": 2,
      "metadata": {
        "id": "fXfDrnh1OBrS"
      },
      "outputs": [],
      "source": [
        "matches = pd.read_csv('IPL_Matches_2008_2022.csv')\n",
        "delivery = pd.read_csv('IPL_Ball_by_Ball_2008_2022.csv')"
      ]
    },
    {
      "cell_type": "markdown",
      "metadata": {
        "id": "b77cVN7CDYme"
      },
      "source": [
        "# Dataset Creation"
      ]
    },
    {
      "cell_type": "code",
      "execution_count": 3,
      "metadata": {
        "colab": {
          "base_uri": "https://localhost:8080/",
          "height": 236
        },
        "id": "FhRWl3iJOQoZ",
        "outputId": "1eaad6b2-ba6f-43ef-c3b6-44137ca9c37d"
      },
      "outputs": [
        {
          "data": {
            "text/html": [
              "<div>\n",
              "<style scoped>\n",
              "    .dataframe tbody tr th:only-of-type {\n",
              "        vertical-align: middle;\n",
              "    }\n",
              "\n",
              "    .dataframe tbody tr th {\n",
              "        vertical-align: top;\n",
              "    }\n",
              "\n",
              "    .dataframe thead th {\n",
              "        text-align: right;\n",
              "    }\n",
              "</style>\n",
              "<table border=\"1\" class=\"dataframe\">\n",
              "  <thead>\n",
              "    <tr style=\"text-align: right;\">\n",
              "      <th></th>\n",
              "      <th>ID</th>\n",
              "      <th>City</th>\n",
              "      <th>Date</th>\n",
              "      <th>Season</th>\n",
              "      <th>MatchNumber</th>\n",
              "      <th>Team1</th>\n",
              "      <th>Team2</th>\n",
              "      <th>Venue</th>\n",
              "      <th>TossWinner</th>\n",
              "      <th>TossDecision</th>\n",
              "      <th>SuperOver</th>\n",
              "      <th>WinningTeam</th>\n",
              "      <th>WonBy</th>\n",
              "      <th>Margin</th>\n",
              "      <th>method</th>\n",
              "      <th>Player_of_Match</th>\n",
              "      <th>Team1Players</th>\n",
              "      <th>Team2Players</th>\n",
              "      <th>Umpire1</th>\n",
              "      <th>Umpire2</th>\n",
              "    </tr>\n",
              "  </thead>\n",
              "  <tbody>\n",
              "    <tr>\n",
              "      <th>0</th>\n",
              "      <td>1312200</td>\n",
              "      <td>Ahmedabad</td>\n",
              "      <td>2022-05-29</td>\n",
              "      <td>2022</td>\n",
              "      <td>Final</td>\n",
              "      <td>Rajasthan Royals</td>\n",
              "      <td>Gujarat Titans</td>\n",
              "      <td>Narendra Modi Stadium, Ahmedabad</td>\n",
              "      <td>Rajasthan Royals</td>\n",
              "      <td>bat</td>\n",
              "      <td>N</td>\n",
              "      <td>Gujarat Titans</td>\n",
              "      <td>Wickets</td>\n",
              "      <td>7.0</td>\n",
              "      <td>NaN</td>\n",
              "      <td>HH Pandya</td>\n",
              "      <td>['YBK Jaiswal', 'JC Buttler', 'SV Samson', 'D ...</td>\n",
              "      <td>['WP Saha', 'Shubman Gill', 'MS Wade', 'HH Pan...</td>\n",
              "      <td>CB Gaffaney</td>\n",
              "      <td>Nitin Menon</td>\n",
              "    </tr>\n",
              "    <tr>\n",
              "      <th>1</th>\n",
              "      <td>1312199</td>\n",
              "      <td>Ahmedabad</td>\n",
              "      <td>2022-05-27</td>\n",
              "      <td>2022</td>\n",
              "      <td>Qualifier 2</td>\n",
              "      <td>Royal Challengers Bangalore</td>\n",
              "      <td>Rajasthan Royals</td>\n",
              "      <td>Narendra Modi Stadium, Ahmedabad</td>\n",
              "      <td>Rajasthan Royals</td>\n",
              "      <td>field</td>\n",
              "      <td>N</td>\n",
              "      <td>Rajasthan Royals</td>\n",
              "      <td>Wickets</td>\n",
              "      <td>7.0</td>\n",
              "      <td>NaN</td>\n",
              "      <td>JC Buttler</td>\n",
              "      <td>['V Kohli', 'F du Plessis', 'RM Patidar', 'GJ ...</td>\n",
              "      <td>['YBK Jaiswal', 'JC Buttler', 'SV Samson', 'D ...</td>\n",
              "      <td>CB Gaffaney</td>\n",
              "      <td>Nitin Menon</td>\n",
              "    </tr>\n",
              "  </tbody>\n",
              "</table>\n",
              "</div>"
            ],
            "text/plain": [
              "        ID       City        Date Season  MatchNumber  \\\n",
              "0  1312200  Ahmedabad  2022-05-29   2022        Final   \n",
              "1  1312199  Ahmedabad  2022-05-27   2022  Qualifier 2   \n",
              "\n",
              "                         Team1             Team2  \\\n",
              "0             Rajasthan Royals    Gujarat Titans   \n",
              "1  Royal Challengers Bangalore  Rajasthan Royals   \n",
              "\n",
              "                              Venue        TossWinner TossDecision SuperOver  \\\n",
              "0  Narendra Modi Stadium, Ahmedabad  Rajasthan Royals          bat         N   \n",
              "1  Narendra Modi Stadium, Ahmedabad  Rajasthan Royals        field         N   \n",
              "\n",
              "        WinningTeam    WonBy  Margin method Player_of_Match  \\\n",
              "0    Gujarat Titans  Wickets     7.0    NaN       HH Pandya   \n",
              "1  Rajasthan Royals  Wickets     7.0    NaN      JC Buttler   \n",
              "\n",
              "                                        Team1Players  \\\n",
              "0  ['YBK Jaiswal', 'JC Buttler', 'SV Samson', 'D ...   \n",
              "1  ['V Kohli', 'F du Plessis', 'RM Patidar', 'GJ ...   \n",
              "\n",
              "                                        Team2Players      Umpire1      Umpire2  \n",
              "0  ['WP Saha', 'Shubman Gill', 'MS Wade', 'HH Pan...  CB Gaffaney  Nitin Menon  \n",
              "1  ['YBK Jaiswal', 'JC Buttler', 'SV Samson', 'D ...  CB Gaffaney  Nitin Menon  "
            ]
          },
          "execution_count": 3,
          "metadata": {},
          "output_type": "execute_result"
        }
      ],
      "source": [
        "matches.head(2)"
      ]
    },
    {
      "cell_type": "code",
      "execution_count": 4,
      "metadata": {
        "colab": {
          "base_uri": "https://localhost:8080/",
          "height": 184
        },
        "id": "NCy-U4taOVC0",
        "outputId": "c11edf0e-091c-4fb2-bb7f-ae16f742105c"
      },
      "outputs": [
        {
          "data": {
            "text/html": [
              "<div>\n",
              "<style scoped>\n",
              "    .dataframe tbody tr th:only-of-type {\n",
              "        vertical-align: middle;\n",
              "    }\n",
              "\n",
              "    .dataframe tbody tr th {\n",
              "        vertical-align: top;\n",
              "    }\n",
              "\n",
              "    .dataframe thead th {\n",
              "        text-align: right;\n",
              "    }\n",
              "</style>\n",
              "<table border=\"1\" class=\"dataframe\">\n",
              "  <thead>\n",
              "    <tr style=\"text-align: right;\">\n",
              "      <th></th>\n",
              "      <th>ID</th>\n",
              "      <th>innings</th>\n",
              "      <th>overs</th>\n",
              "      <th>ballnumber</th>\n",
              "      <th>batter</th>\n",
              "      <th>bowler</th>\n",
              "      <th>non-striker</th>\n",
              "      <th>extra_type</th>\n",
              "      <th>batsman_run</th>\n",
              "      <th>extras_run</th>\n",
              "      <th>total_run</th>\n",
              "      <th>non_boundary</th>\n",
              "      <th>isWicketDelivery</th>\n",
              "      <th>player_out</th>\n",
              "      <th>kind</th>\n",
              "      <th>fielders_involved</th>\n",
              "      <th>BattingTeam</th>\n",
              "    </tr>\n",
              "  </thead>\n",
              "  <tbody>\n",
              "    <tr>\n",
              "      <th>0</th>\n",
              "      <td>1312200</td>\n",
              "      <td>1</td>\n",
              "      <td>0</td>\n",
              "      <td>1</td>\n",
              "      <td>YBK Jaiswal</td>\n",
              "      <td>Mohammed Shami</td>\n",
              "      <td>JC Buttler</td>\n",
              "      <td>NaN</td>\n",
              "      <td>0</td>\n",
              "      <td>0</td>\n",
              "      <td>0</td>\n",
              "      <td>0</td>\n",
              "      <td>0</td>\n",
              "      <td>NaN</td>\n",
              "      <td>NaN</td>\n",
              "      <td>NaN</td>\n",
              "      <td>Rajasthan Royals</td>\n",
              "    </tr>\n",
              "    <tr>\n",
              "      <th>1</th>\n",
              "      <td>1312200</td>\n",
              "      <td>1</td>\n",
              "      <td>0</td>\n",
              "      <td>2</td>\n",
              "      <td>YBK Jaiswal</td>\n",
              "      <td>Mohammed Shami</td>\n",
              "      <td>JC Buttler</td>\n",
              "      <td>legbyes</td>\n",
              "      <td>0</td>\n",
              "      <td>1</td>\n",
              "      <td>1</td>\n",
              "      <td>0</td>\n",
              "      <td>0</td>\n",
              "      <td>NaN</td>\n",
              "      <td>NaN</td>\n",
              "      <td>NaN</td>\n",
              "      <td>Rajasthan Royals</td>\n",
              "    </tr>\n",
              "  </tbody>\n",
              "</table>\n",
              "</div>"
            ],
            "text/plain": [
              "        ID  innings  overs  ballnumber       batter          bowler  \\\n",
              "0  1312200        1      0           1  YBK Jaiswal  Mohammed Shami   \n",
              "1  1312200        1      0           2  YBK Jaiswal  Mohammed Shami   \n",
              "\n",
              "  non-striker extra_type  batsman_run  extras_run  total_run  non_boundary  \\\n",
              "0  JC Buttler        NaN            0           0          0             0   \n",
              "1  JC Buttler    legbyes            0           1          1             0   \n",
              "\n",
              "   isWicketDelivery player_out kind fielders_involved       BattingTeam  \n",
              "0                 0        NaN  NaN               NaN  Rajasthan Royals  \n",
              "1                 0        NaN  NaN               NaN  Rajasthan Royals  "
            ]
          },
          "execution_count": 4,
          "metadata": {},
          "output_type": "execute_result"
        }
      ],
      "source": [
        "delivery.head(2)"
      ]
    },
    {
      "cell_type": "markdown",
      "metadata": {
        "id": "Bi_CGnnqvP4o"
      },
      "source": [
        "##LE"
      ]
    },
    {
      "cell_type": "code",
      "execution_count": 5,
      "metadata": {
        "id": "JDoDpceXsizL"
      },
      "outputs": [],
      "source": [
        "# # prompt: apply label encoder on ID column\n",
        "\n",
        "# # Assuming 'matches' DataFrame is already loaded as shown in the previous code\n",
        "\n",
        "# le = LabelEncoder()\n",
        "# matches['ID'] = le.fit_transform(matches['ID'])\n",
        "# delivery['ID'] = le.transform(delivery['ID'])"
      ]
    },
    {
      "cell_type": "code",
      "execution_count": 6,
      "metadata": {
        "id": "_q33WpujunJ2"
      },
      "outputs": [],
      "source": [
        "# matches[matches['ID'] == 1]"
      ]
    },
    {
      "cell_type": "code",
      "execution_count": 7,
      "metadata": {
        "id": "iJ3itln_tOaD"
      },
      "outputs": [],
      "source": [
        "# delivery[delivery['ID'] == 1].head(124)"
      ]
    },
    {
      "cell_type": "markdown",
      "metadata": {
        "id": "4VkRxVwBwHYc"
      },
      "source": [
        "##Feature extract"
      ]
    },
    {
      "cell_type": "code",
      "execution_count": 8,
      "metadata": {
        "colab": {
          "base_uri": "https://localhost:8080/"
        },
        "id": "ZCyjAI18wkQq",
        "outputId": "61f4be04-842d-47de-f559-54975aed9fc2"
      },
      "outputs": [
        {
          "data": {
            "text/plain": [
              "Index(['ID', 'City', 'Date', 'Season', 'MatchNumber', 'Team1', 'Team2',\n",
              "       'Venue', 'TossWinner', 'TossDecision', 'SuperOver', 'WinningTeam',\n",
              "       'WonBy', 'Margin', 'method', 'Player_of_Match', 'Team1Players',\n",
              "       'Team2Players', 'Umpire1', 'Umpire2'],\n",
              "      dtype='object')"
            ]
          },
          "execution_count": 8,
          "metadata": {},
          "output_type": "execute_result"
        }
      ],
      "source": [
        "matches.columns"
      ]
    },
    {
      "cell_type": "code",
      "execution_count": 9,
      "metadata": {
        "id": "pqESWWpNwgLO"
      },
      "outputs": [],
      "source": [
        "matches = matches[['ID','City','WinningTeam','Team1','Team2']]"
      ]
    },
    {
      "cell_type": "code",
      "execution_count": 10,
      "metadata": {
        "colab": {
          "base_uri": "https://localhost:8080/"
        },
        "id": "0RsjQf-CwxNf",
        "outputId": "2d763617-c384-422a-c880-a36e645d6ed9"
      },
      "outputs": [
        {
          "data": {
            "text/plain": [
              "Index(['ID', 'innings', 'overs', 'ballnumber', 'batter', 'bowler',\n",
              "       'non-striker', 'extra_type', 'batsman_run', 'extras_run', 'total_run',\n",
              "       'non_boundary', 'isWicketDelivery', 'player_out', 'kind',\n",
              "       'fielders_involved', 'BattingTeam'],\n",
              "      dtype='object')"
            ]
          },
          "execution_count": 10,
          "metadata": {},
          "output_type": "execute_result"
        }
      ],
      "source": [
        "delivery.columns"
      ]
    },
    {
      "cell_type": "code",
      "execution_count": 11,
      "metadata": {
        "id": "JdcpYf5Ow0OT"
      },
      "outputs": [],
      "source": [
        "delivery = delivery[['ID','innings','overs','ballnumber','total_run','player_out','isWicketDelivery','BattingTeam']]"
      ]
    },
    {
      "cell_type": "markdown",
      "metadata": {
        "id": "kNvrmUisxHl-"
      },
      "source": [
        "##inning 1 runs of matches like target_runs added -> match_df"
      ]
    },
    {
      "cell_type": "code",
      "execution_count": 12,
      "metadata": {
        "colab": {
          "base_uri": "https://localhost:8080/"
        },
        "id": "SzYfu1DtOvCH",
        "outputId": "4eb40698-9948-44eb-8eaf-ef300bb560d0"
      },
      "outputs": [
        {
          "data": {
            "text/html": [
              "<div>\n",
              "<style scoped>\n",
              "    .dataframe tbody tr th:only-of-type {\n",
              "        vertical-align: middle;\n",
              "    }\n",
              "\n",
              "    .dataframe tbody tr th {\n",
              "        vertical-align: top;\n",
              "    }\n",
              "\n",
              "    .dataframe thead th {\n",
              "        text-align: right;\n",
              "    }\n",
              "</style>\n",
              "<table border=\"1\" class=\"dataframe\">\n",
              "  <thead>\n",
              "    <tr style=\"text-align: right;\">\n",
              "      <th></th>\n",
              "      <th>ID</th>\n",
              "      <th>innings</th>\n",
              "      <th>total_run</th>\n",
              "    </tr>\n",
              "  </thead>\n",
              "  <tbody>\n",
              "    <tr>\n",
              "      <th>0</th>\n",
              "      <td>335982</td>\n",
              "      <td>1</td>\n",
              "      <td>222</td>\n",
              "    </tr>\n",
              "    <tr>\n",
              "      <th>1</th>\n",
              "      <td>335982</td>\n",
              "      <td>2</td>\n",
              "      <td>82</td>\n",
              "    </tr>\n",
              "  </tbody>\n",
              "</table>\n",
              "</div>"
            ],
            "text/plain": [
              "       ID  innings  total_run\n",
              "0  335982        1        222\n",
              "1  335982        2         82"
            ]
          },
          "execution_count": 12,
          "metadata": {},
          "output_type": "execute_result"
        }
      ],
      "source": [
        "# total_runs per inning\n",
        "total_score_df = delivery.groupby(['ID','innings']).sum()['total_run'].reset_index()\n",
        "total_score_df.head(2)"
      ]
    },
    {
      "cell_type": "code",
      "execution_count": 13,
      "metadata": {
        "colab": {
          "base_uri": "https://localhost:8080/"
        },
        "id": "bwF0Q1eWPGnk",
        "outputId": "de93194e-2caa-479d-a90c-b968621a9bb1"
      },
      "outputs": [
        {
          "data": {
            "text/html": [
              "<div>\n",
              "<style scoped>\n",
              "    .dataframe tbody tr th:only-of-type {\n",
              "        vertical-align: middle;\n",
              "    }\n",
              "\n",
              "    .dataframe tbody tr th {\n",
              "        vertical-align: top;\n",
              "    }\n",
              "\n",
              "    .dataframe thead th {\n",
              "        text-align: right;\n",
              "    }\n",
              "</style>\n",
              "<table border=\"1\" class=\"dataframe\">\n",
              "  <thead>\n",
              "    <tr style=\"text-align: right;\">\n",
              "      <th></th>\n",
              "      <th>ID</th>\n",
              "      <th>innings</th>\n",
              "      <th>total_run</th>\n",
              "    </tr>\n",
              "  </thead>\n",
              "  <tbody>\n",
              "    <tr>\n",
              "      <th>0</th>\n",
              "      <td>335982</td>\n",
              "      <td>1</td>\n",
              "      <td>222</td>\n",
              "    </tr>\n",
              "    <tr>\n",
              "      <th>2</th>\n",
              "      <td>335983</td>\n",
              "      <td>1</td>\n",
              "      <td>240</td>\n",
              "    </tr>\n",
              "  </tbody>\n",
              "</table>\n",
              "</div>"
            ],
            "text/plain": [
              "       ID  innings  total_run\n",
              "0  335982        1        222\n",
              "2  335983        1        240"
            ]
          },
          "execution_count": 13,
          "metadata": {},
          "output_type": "execute_result"
        }
      ],
      "source": [
        "# getting for only first inning\n",
        "total_score_df = total_score_df[total_score_df['innings'] == 1]\n",
        "total_score_df.head(2)"
      ]
    },
    {
      "cell_type": "code",
      "execution_count": 14,
      "metadata": {
        "colab": {
          "base_uri": "https://localhost:8080/"
        },
        "id": "SbF-bEefPZiF",
        "outputId": "1e6350ce-a3de-4e75-c409-552e323dc044"
      },
      "outputs": [
        {
          "data": {
            "text/html": [
              "<div>\n",
              "<style scoped>\n",
              "    .dataframe tbody tr th:only-of-type {\n",
              "        vertical-align: middle;\n",
              "    }\n",
              "\n",
              "    .dataframe tbody tr th {\n",
              "        vertical-align: top;\n",
              "    }\n",
              "\n",
              "    .dataframe thead th {\n",
              "        text-align: right;\n",
              "    }\n",
              "</style>\n",
              "<table border=\"1\" class=\"dataframe\">\n",
              "  <thead>\n",
              "    <tr style=\"text-align: right;\">\n",
              "      <th></th>\n",
              "      <th>ID</th>\n",
              "      <th>City</th>\n",
              "      <th>WinningTeam</th>\n",
              "      <th>Team1</th>\n",
              "      <th>Team2</th>\n",
              "      <th>total_run</th>\n",
              "    </tr>\n",
              "  </thead>\n",
              "  <tbody>\n",
              "    <tr>\n",
              "      <th>0</th>\n",
              "      <td>1312200</td>\n",
              "      <td>Ahmedabad</td>\n",
              "      <td>Gujarat Titans</td>\n",
              "      <td>Rajasthan Royals</td>\n",
              "      <td>Gujarat Titans</td>\n",
              "      <td>130</td>\n",
              "    </tr>\n",
              "    <tr>\n",
              "      <th>1</th>\n",
              "      <td>1312199</td>\n",
              "      <td>Ahmedabad</td>\n",
              "      <td>Rajasthan Royals</td>\n",
              "      <td>Royal Challengers Bangalore</td>\n",
              "      <td>Rajasthan Royals</td>\n",
              "      <td>157</td>\n",
              "    </tr>\n",
              "  </tbody>\n",
              "</table>\n",
              "</div>"
            ],
            "text/plain": [
              "        ID       City       WinningTeam                        Team1  \\\n",
              "0  1312200  Ahmedabad    Gujarat Titans             Rajasthan Royals   \n",
              "1  1312199  Ahmedabad  Rajasthan Royals  Royal Challengers Bangalore   \n",
              "\n",
              "              Team2  total_run  \n",
              "0    Gujarat Titans        130  \n",
              "1  Rajasthan Royals        157  "
            ]
          },
          "execution_count": 14,
          "metadata": {},
          "output_type": "execute_result"
        }
      ],
      "source": [
        "# adding this total_run column & matches columns to new match_df\n",
        "match_df = matches.merge(total_score_df[['ID','total_run']],left_on='ID',right_on='ID')\n",
        "match_df.head(2)"
      ]
    },
    {
      "cell_type": "markdown",
      "metadata": {
        "id": "X9yBFjxdzvBp"
      },
      "source": [
        "##match_df + delivery => delivery_df"
      ]
    },
    {
      "cell_type": "code",
      "execution_count": 15,
      "metadata": {
        "id": "4AIPbcpRRaKd"
      },
      "outputs": [],
      "source": [
        "delivery_df = match_df.merge(delivery,on='ID')"
      ]
    },
    {
      "cell_type": "markdown",
      "metadata": {
        "id": "RZKjS0Z5zIfg"
      },
      "source": [
        "##teams & teamsname correction"
      ]
    },
    {
      "cell_type": "code",
      "execution_count": 16,
      "metadata": {
        "colab": {
          "base_uri": "https://localhost:8080/"
        },
        "id": "rgTzAvGRP3Re",
        "outputId": "e80bdb58-39c4-4e9f-eeec-ad29817c2b55"
      },
      "outputs": [
        {
          "data": {
            "text/plain": [
              "array(['Rajasthan Royals', 'Royal Challengers Bangalore',\n",
              "       'Sunrisers Hyderabad', 'Delhi Capitals', 'Chennai Super Kings',\n",
              "       'Gujarat Titans', 'Lucknow Super Giants', 'Kolkata Knight Riders',\n",
              "       'Punjab Kings', 'Mumbai Indians', 'Kings XI Punjab',\n",
              "       'Delhi Daredevils', 'Rising Pune Supergiant', 'Gujarat Lions',\n",
              "       'Rising Pune Supergiants', 'Pune Warriors', 'Deccan Chargers',\n",
              "       'Kochi Tuskers Kerala'], dtype=object)"
            ]
          },
          "execution_count": 16,
          "metadata": {},
          "output_type": "execute_result"
        }
      ],
      "source": [
        "match_df['Team1'].unique()"
      ]
    },
    {
      "cell_type": "code",
      "execution_count": 17,
      "metadata": {
        "id": "yNahJE96RNJT"
      },
      "outputs": [],
      "source": [
        "# changing name of teams which exists with different name\n",
        "match_df['Team1'] = match_df['Team1'].str.replace('Delhi Daredevils','Delhi Capitals')\n",
        "match_df['Team2'] = match_df['Team2'].str.replace('Delhi Daredevils','Delhi Capitals')\n",
        "\n",
        "match_df['Team1'] = match_df['Team1'].str.replace('Kings XI Punjab','Punjab Kings')\n",
        "match_df['Team2'] = match_df['Team2'].str.replace('Kings XI Punjab','Punjab Kings')\n",
        "\n",
        "match_df['Team1'] = match_df['Team1'].str.replace('Gujarat Lions','Gujarat Titans')\n",
        "match_df['Team2'] = match_df['Team2'].str.replace('Gujarat Lions','Gujarat Titans')\n",
        "\n",
        "match_df['Team1'] = match_df['Team1'].str.replace('Deccan Chargers','Sunrisers Hyderabad')\n",
        "match_df['Team2'] = match_df['Team2'].str.replace('Deccan Chargers','Sunrisers Hyderabad')\n",
        "\n",
        "#removing old teams which are not playing currently\n",
        "teams = ['Rajasthan Royals', 'Royal Challengers Bangalore',\n",
        "       'Sunrisers Hyderabad', 'Delhi Capitals', 'Chennai Super Kings',\n",
        "       'Gujarat Titans', 'Lucknow Super Giants', 'Kolkata Knight Riders',\n",
        "       'Punjab Kings', 'Mumbai Indians']\n",
        "\n",
        "match_df = match_df[(match_df['Team1'].isin(teams)) & (match_df['Team2'].isin(teams))]\n",
        "\n",
        "# In delivery_df\n",
        "delivery_df = delivery_df[(delivery_df['BattingTeam'].isin(teams))]"
      ]
    },
    {
      "cell_type": "markdown",
      "metadata": {
        "id": "H1oeJB1VvagW"
      },
      "source": [
        "##NaN in delivery_df"
      ]
    },
    {
      "cell_type": "code",
      "execution_count": 18,
      "metadata": {
        "colab": {
          "base_uri": "https://localhost:8080/"
        },
        "id": "j-d1N6Giv-ej",
        "outputId": "8c2bb230-94f9-4e7c-e218-190ef606131f"
      },
      "outputs": [
        {
          "data": {
            "text/plain": [
              "ID                       0\n",
              "City                 10333\n",
              "WinningTeam            186\n",
              "Team1                    0\n",
              "Team2                    0\n",
              "total_run_x              0\n",
              "innings                  0\n",
              "overs                    0\n",
              "ballnumber               0\n",
              "total_run_y              0\n",
              "player_out          153590\n",
              "isWicketDelivery         0\n",
              "BattingTeam              0\n",
              "dtype: int64"
            ]
          },
          "execution_count": 18,
          "metadata": {},
          "output_type": "execute_result"
        }
      ],
      "source": [
        "delivery_df.isna().sum()"
      ]
    },
    {
      "cell_type": "code",
      "execution_count": 19,
      "metadata": {
        "id": "8-KIxuRZv-We"
      },
      "outputs": [],
      "source": [
        "delivery_df = delivery_df.dropna(subset=['City'])\n",
        "delivery_df = delivery_df.dropna(subset=['WinningTeam'])\n",
        "delivery_df['player_out'] = delivery_df['player_out'].fillna('0') # means no wicket on this ball"
      ]
    },
    {
      "cell_type": "markdown",
      "metadata": {
        "id": "5uvw5XbP2Qvl"
      },
      "source": [
        "##delivery_df for only inning=2 for current batting team prediction"
      ]
    },
    {
      "cell_type": "code",
      "execution_count": 20,
      "metadata": {
        "id": "xhM2LnpkTv_E"
      },
      "outputs": [],
      "source": [
        "# taking data for only second innings\n",
        "delivery_df = delivery_df[delivery_df['innings'] == 2]"
      ]
    },
    {
      "cell_type": "markdown",
      "metadata": {
        "id": "DIIVvBGP2hnW"
      },
      "source": [
        "##creating some columns"
      ]
    },
    {
      "cell_type": "markdown",
      "metadata": {
        "id": "F862Z-VnI1HP"
      },
      "source": [
        "###BallingTeam"
      ]
    },
    {
      "cell_type": "code",
      "execution_count": 21,
      "metadata": {
        "id": "EFwkS49f5QIS"
      },
      "outputs": [],
      "source": [
        "# now i need one column called 'bowling_team' which calculated by if batting team == Team1 return Team2 else Team1\n",
        "delivery_df['BallingTeam'] = np.where(delivery_df['BattingTeam'] == delivery_df['Team1'], delivery_df['Team2'], delivery_df['Team1'])\n"
      ]
    },
    {
      "cell_type": "markdown",
      "metadata": {
        "id": "aKwyiAa82l8n"
      },
      "source": [
        "###current_score : current runs on each ball"
      ]
    },
    {
      "cell_type": "code",
      "execution_count": 22,
      "metadata": {
        "id": "qbFUMLfYUS2c"
      },
      "outputs": [],
      "source": [
        "# calculating current score on each ball\n",
        "delivery_df['current_score'] = delivery_df.groupby('ID')['total_run_y'].cumsum()"
      ]
    },
    {
      "cell_type": "markdown",
      "metadata": {
        "id": "TqKwGs1V2vzG"
      },
      "source": [
        "###runs_left : how much runs left to win = target - current"
      ]
    },
    {
      "cell_type": "code",
      "execution_count": 23,
      "metadata": {
        "id": "z70qZnGnVUJt"
      },
      "outputs": [],
      "source": [
        "# calculating runs_left to win BattingTeam\n",
        "delivery_df['runs_left'] = delivery_df['total_run_x'] - delivery_df['current_score']"
      ]
    },
    {
      "cell_type": "code",
      "execution_count": 24,
      "metadata": {
        "colab": {
          "base_uri": "https://localhost:8080/"
        },
        "id": "EIPgili_LEzQ",
        "outputId": "8f120aba-9fa4-495e-d8fe-f28f3d35d89e"
      },
      "outputs": [
        {
          "data": {
            "text/html": [
              "<div>\n",
              "<style scoped>\n",
              "    .dataframe tbody tr th:only-of-type {\n",
              "        vertical-align: middle;\n",
              "    }\n",
              "\n",
              "    .dataframe tbody tr th {\n",
              "        vertical-align: top;\n",
              "    }\n",
              "\n",
              "    .dataframe thead th {\n",
              "        text-align: right;\n",
              "    }\n",
              "</style>\n",
              "<table border=\"1\" class=\"dataframe\">\n",
              "  <thead>\n",
              "    <tr style=\"text-align: right;\">\n",
              "      <th></th>\n",
              "      <th>ID</th>\n",
              "      <th>City</th>\n",
              "      <th>WinningTeam</th>\n",
              "      <th>Team1</th>\n",
              "      <th>Team2</th>\n",
              "      <th>total_run_x</th>\n",
              "      <th>innings</th>\n",
              "      <th>overs</th>\n",
              "      <th>ballnumber</th>\n",
              "      <th>total_run_y</th>\n",
              "      <th>player_out</th>\n",
              "      <th>isWicketDelivery</th>\n",
              "      <th>BattingTeam</th>\n",
              "      <th>BallingTeam</th>\n",
              "      <th>current_score</th>\n",
              "      <th>runs_left</th>\n",
              "    </tr>\n",
              "  </thead>\n",
              "  <tbody>\n",
              "    <tr>\n",
              "      <th>232</th>\n",
              "      <td>1312200</td>\n",
              "      <td>Ahmedabad</td>\n",
              "      <td>Gujarat Titans</td>\n",
              "      <td>Rajasthan Royals</td>\n",
              "      <td>Gujarat Titans</td>\n",
              "      <td>130</td>\n",
              "      <td>2</td>\n",
              "      <td>18</td>\n",
              "      <td>1</td>\n",
              "      <td>6</td>\n",
              "      <td>0</td>\n",
              "      <td>0</td>\n",
              "      <td>Gujarat Titans</td>\n",
              "      <td>Rajasthan Royals</td>\n",
              "      <td>133</td>\n",
              "      <td>-3</td>\n",
              "    </tr>\n",
              "    <tr>\n",
              "      <th>468</th>\n",
              "      <td>1312199</td>\n",
              "      <td>Ahmedabad</td>\n",
              "      <td>Rajasthan Royals</td>\n",
              "      <td>Royal Challengers Bangalore</td>\n",
              "      <td>Rajasthan Royals</td>\n",
              "      <td>157</td>\n",
              "      <td>2</td>\n",
              "      <td>18</td>\n",
              "      <td>1</td>\n",
              "      <td>6</td>\n",
              "      <td>0</td>\n",
              "      <td>0</td>\n",
              "      <td>Rajasthan Royals</td>\n",
              "      <td>Royal Challengers Bangalore</td>\n",
              "      <td>161</td>\n",
              "      <td>-4</td>\n",
              "    </tr>\n",
              "  </tbody>\n",
              "</table>\n",
              "</div>"
            ],
            "text/plain": [
              "          ID       City       WinningTeam                        Team1  \\\n",
              "232  1312200  Ahmedabad    Gujarat Titans             Rajasthan Royals   \n",
              "468  1312199  Ahmedabad  Rajasthan Royals  Royal Challengers Bangalore   \n",
              "\n",
              "                Team2  total_run_x  innings  overs  ballnumber  total_run_y  \\\n",
              "232    Gujarat Titans          130        2     18           1            6   \n",
              "468  Rajasthan Royals          157        2     18           1            6   \n",
              "\n",
              "    player_out  isWicketDelivery       BattingTeam  \\\n",
              "232          0                 0    Gujarat Titans   \n",
              "468          0                 0  Rajasthan Royals   \n",
              "\n",
              "                     BallingTeam  current_score  runs_left  \n",
              "232             Rajasthan Royals            133         -3  \n",
              "468  Royal Challengers Bangalore            161         -4  "
            ]
          },
          "execution_count": 24,
          "metadata": {},
          "output_type": "execute_result"
        }
      ],
      "source": [
        "# prompt: somewhere runs_left column gives -ve values, so i want to find where is it\n",
        "\n",
        "delivery_df[delivery_df['runs_left'] < 0].head(2)\n",
        "\n",
        "# it is last ball of game where like team need 3 runs and player hit 6 so team get 6 runs at that time runs_left is giving -ve score\n",
        "# but it can be helpful to denote winning to model"
      ]
    },
    {
      "cell_type": "code",
      "execution_count": 25,
      "metadata": {
        "id": "s7utq3K-L_sO"
      },
      "outputs": [],
      "source": [
        "# # prompt: remove this columns where runs_left have -ve values\n",
        "\n",
        "# delivery_df = delivery_df[delivery_df['runs_left'] >= 0]\n"
      ]
    },
    {
      "cell_type": "markdown",
      "metadata": {
        "id": "3znwA7rS3g5d"
      },
      "source": [
        "###ballnumbercorrection\n",
        "###balls_left : how many balls left from 20*6"
      ]
    },
    {
      "cell_type": "code",
      "execution_count": 26,
      "metadata": {
        "colab": {
          "base_uri": "https://localhost:8080/"
        },
        "id": "tvrbXGi-N-ws",
        "outputId": "eaa35862-9c2a-45df-9d0e-0089d16df08b"
      },
      "outputs": [
        {
          "data": {
            "text/plain": [
              "array([ 1,  2,  3,  4,  5,  6,  7,  8,  9, 10])"
            ]
          },
          "execution_count": 26,
          "metadata": {},
          "output_type": "execute_result"
        }
      ],
      "source": [
        "delivery_df['ballnumber'].unique()"
      ]
    },
    {
      "cell_type": "code",
      "execution_count": 27,
      "metadata": {
        "id": "koAWB7IxPFR3"
      },
      "outputs": [],
      "source": [
        "# Drop rows where ballnumber > 6\n",
        "delivery_df = delivery_df[delivery_df['ballnumber'] <= 6]\n"
      ]
    },
    {
      "cell_type": "code",
      "execution_count": 28,
      "metadata": {
        "colab": {
          "base_uri": "https://localhost:8080/"
        },
        "id": "zrQD5uRVWYDx",
        "outputId": "f158618f-7a7d-44ab-f5a4-f55b06602d81"
      },
      "outputs": [],
      "source": [
        "# calculating balls_left by (total_balls+6) - (over*6 + current_ball_number)\n",
        "delivery_df['balls_left'] = 120 - (delivery_df['overs']*6 + delivery_df['ballnumber'])"
      ]
    },
    {
      "cell_type": "markdown",
      "metadata": {
        "id": "v8LX28MF4R26"
      },
      "source": [
        "###wicket_left out of 10"
      ]
    },
    {
      "cell_type": "code",
      "execution_count": 29,
      "metadata": {
        "id": "55aaA_yO-8S8"
      },
      "outputs": [],
      "source": [
        "# calculating wickets_left by 2 ways"
      ]
    },
    {
      "cell_type": "code",
      "execution_count": 30,
      "metadata": {
        "colab": {
          "base_uri": "https://localhost:8080/"
        },
        "id": "OEF03D-MueOn",
        "outputId": "93f90847-f132-4fad-f88f-97ed9768ca3f"
      },
      "outputs": [
        {
          "data": {
            "text/plain": [
              "array([0, 1])"
            ]
          },
          "execution_count": 30,
          "metadata": {},
          "output_type": "execute_result"
        }
      ],
      "source": [
        "# first way\n",
        "delivery_df['isWicketDelivery'].unique()"
      ]
    },
    {
      "cell_type": "code",
      "execution_count": 31,
      "metadata": {
        "colab": {
          "base_uri": "https://localhost:8080/"
        },
        "id": "SIwOniqDu2b9",
        "outputId": "fb90c207-db5f-4736-f6f4-dd86f210862b"
      },
      "outputs": [],
      "source": [
        "delivery_df['wicket_left'] = 10 - delivery_df.groupby('ID')['isWicketDelivery'].cumsum()"
      ]
    },
    {
      "cell_type": "code",
      "execution_count": 32,
      "metadata": {
        "colab": {
          "base_uri": "https://localhost:8080/"
        },
        "id": "XxA1yhvTyfsJ",
        "outputId": "0f7703e2-5cee-48b1-ff61-781f33a1c3fe"
      },
      "outputs": [],
      "source": [
        "# second way\n",
        "delivery_df['player_out'] = delivery_df['player_out'].apply(lambda x: x if x == '0' else '1') # name assigned to '1'\n",
        "delivery_df['player_out'] = delivery_df['player_out'].astype('int')\n",
        "wickets = delivery_df.groupby('ID')['player_out'].cumsum()\n",
        "delivery_df['wickets'] = 10 - wickets"
      ]
    },
    {
      "cell_type": "code",
      "execution_count": 33,
      "metadata": {
        "colab": {
          "base_uri": "https://localhost:8080/"
        },
        "id": "DHZ1hugx0To2",
        "outputId": "5c70f1db-2ece-414c-eafd-ea55966dbceb"
      },
      "outputs": [
        {
          "data": {
            "text/plain": [
              "(69914, 19)"
            ]
          },
          "execution_count": 33,
          "metadata": {},
          "output_type": "execute_result"
        }
      ],
      "source": [
        "delivery_df.shape"
      ]
    },
    {
      "cell_type": "code",
      "execution_count": 34,
      "metadata": {
        "colab": {
          "base_uri": "https://localhost:8080/"
        },
        "id": "N3ltMmMR0Cea",
        "outputId": "bfff896f-e101-450d-bc47-93aacfa43a9d"
      },
      "outputs": [
        {
          "name": "stdout",
          "output_type": "stream",
          "text": [
            "True    69914\n",
            "Name: count, dtype: int64\n"
          ]
        }
      ],
      "source": [
        "# Comparing 'wickets' and 'wicket_left' columns\n",
        "comparison_result = delivery_df['wickets'] == delivery_df['wicket_left']\n",
        "print(comparison_result.value_counts())\n"
      ]
    },
    {
      "cell_type": "code",
      "execution_count": 35,
      "metadata": {
        "id": "V3PQS__-0XFH"
      },
      "outputs": [],
      "source": [
        "# so both method is same to find left wickets"
      ]
    },
    {
      "cell_type": "markdown",
      "metadata": {
        "id": "Njhrnwd84vS1"
      },
      "source": [
        "###run_rates\n",
        "####crr : current runrate<br>\n",
        "####rrr : required runrate"
      ]
    },
    {
      "cell_type": "code",
      "execution_count": 36,
      "metadata": {
        "id": "2I_EZLGYHAma"
      },
      "outputs": [],
      "source": [
        "# rrr would be infinite value because of last ball-> balls_left=0 and so that rrr will be infinity\n",
        "# crr would be infinite value because of first ball-> balls_left=120 and so that crr will be infinity\n",
        "\n",
        "# remove row of last ball\n",
        "delivery_df = delivery_df[delivery_df['balls_left'] != 0]\n",
        "# remove row of first ball\n",
        "delivery_df = delivery_df[delivery_df['balls_left'] != 120]"
      ]
    },
    {
      "cell_type": "code",
      "execution_count": 37,
      "metadata": {
        "id": "UDt8Vmsr0dxk"
      },
      "outputs": [],
      "source": [
        "# current_run_rate\n",
        "# crr = current_runs / current_overs\n",
        "delivery_df['crr'] = delivery_df['current_score'] * 6 / (120 - delivery_df['balls_left'])"
      ]
    },
    {
      "cell_type": "code",
      "execution_count": 38,
      "metadata": {
        "id": "Jm4hHd4J02qa"
      },
      "outputs": [],
      "source": [
        "# required_run_rate\n",
        "# current rrr = (total_target_runs - current_runs) / (total_overs - current_over)\n",
        "delivery_df['rrr'] = (delivery_df['runs_left'] * 6) / delivery_df['balls_left']"
      ]
    },
    {
      "cell_type": "markdown",
      "metadata": {
        "id": "fbIjm3nv6HAt"
      },
      "source": [
        "###result: in inning 2 - win(1) if BattingTeam == WinningTeam\n",
        "because we are making prediction for second team"
      ]
    },
    {
      "cell_type": "code",
      "execution_count": 39,
      "metadata": {
        "colab": {
          "base_uri": "https://localhost:8080/"
        },
        "id": "bQpmsdCY2ULC",
        "outputId": "baae5af0-2c6d-4d10-c6dc-5e390d65cce5"
      },
      "outputs": [
        {
          "data": {
            "text/html": [
              "<div>\n",
              "<style scoped>\n",
              "    .dataframe tbody tr th:only-of-type {\n",
              "        vertical-align: middle;\n",
              "    }\n",
              "\n",
              "    .dataframe tbody tr th {\n",
              "        vertical-align: top;\n",
              "    }\n",
              "\n",
              "    .dataframe thead th {\n",
              "        text-align: right;\n",
              "    }\n",
              "</style>\n",
              "<table border=\"1\" class=\"dataframe\">\n",
              "  <thead>\n",
              "    <tr style=\"text-align: right;\">\n",
              "      <th></th>\n",
              "      <th>ID</th>\n",
              "      <th>City</th>\n",
              "      <th>WinningTeam</th>\n",
              "      <th>Team1</th>\n",
              "      <th>Team2</th>\n",
              "      <th>total_run_x</th>\n",
              "      <th>innings</th>\n",
              "      <th>overs</th>\n",
              "      <th>ballnumber</th>\n",
              "      <th>total_run_y</th>\n",
              "      <th>...</th>\n",
              "      <th>BattingTeam</th>\n",
              "      <th>BallingTeam</th>\n",
              "      <th>current_score</th>\n",
              "      <th>runs_left</th>\n",
              "      <th>balls_left</th>\n",
              "      <th>wicket_left</th>\n",
              "      <th>wickets</th>\n",
              "      <th>crr</th>\n",
              "      <th>rrr</th>\n",
              "      <th>result</th>\n",
              "    </tr>\n",
              "  </thead>\n",
              "  <tbody>\n",
              "    <tr>\n",
              "      <th>120</th>\n",
              "      <td>1312200</td>\n",
              "      <td>Ahmedabad</td>\n",
              "      <td>Gujarat Titans</td>\n",
              "      <td>Rajasthan Royals</td>\n",
              "      <td>Gujarat Titans</td>\n",
              "      <td>130</td>\n",
              "      <td>2</td>\n",
              "      <td>0</td>\n",
              "      <td>1</td>\n",
              "      <td>0</td>\n",
              "      <td>...</td>\n",
              "      <td>Gujarat Titans</td>\n",
              "      <td>Rajasthan Royals</td>\n",
              "      <td>0</td>\n",
              "      <td>130</td>\n",
              "      <td>119</td>\n",
              "      <td>10</td>\n",
              "      <td>10</td>\n",
              "      <td>0.0</td>\n",
              "      <td>6.554622</td>\n",
              "      <td>1</td>\n",
              "    </tr>\n",
              "    <tr>\n",
              "      <th>121</th>\n",
              "      <td>1312200</td>\n",
              "      <td>Ahmedabad</td>\n",
              "      <td>Gujarat Titans</td>\n",
              "      <td>Rajasthan Royals</td>\n",
              "      <td>Gujarat Titans</td>\n",
              "      <td>130</td>\n",
              "      <td>2</td>\n",
              "      <td>0</td>\n",
              "      <td>2</td>\n",
              "      <td>0</td>\n",
              "      <td>...</td>\n",
              "      <td>Gujarat Titans</td>\n",
              "      <td>Rajasthan Royals</td>\n",
              "      <td>0</td>\n",
              "      <td>130</td>\n",
              "      <td>118</td>\n",
              "      <td>10</td>\n",
              "      <td>10</td>\n",
              "      <td>0.0</td>\n",
              "      <td>6.610169</td>\n",
              "      <td>1</td>\n",
              "    </tr>\n",
              "    <tr>\n",
              "      <th>122</th>\n",
              "      <td>1312200</td>\n",
              "      <td>Ahmedabad</td>\n",
              "      <td>Gujarat Titans</td>\n",
              "      <td>Rajasthan Royals</td>\n",
              "      <td>Gujarat Titans</td>\n",
              "      <td>130</td>\n",
              "      <td>2</td>\n",
              "      <td>0</td>\n",
              "      <td>3</td>\n",
              "      <td>1</td>\n",
              "      <td>...</td>\n",
              "      <td>Gujarat Titans</td>\n",
              "      <td>Rajasthan Royals</td>\n",
              "      <td>1</td>\n",
              "      <td>129</td>\n",
              "      <td>117</td>\n",
              "      <td>10</td>\n",
              "      <td>10</td>\n",
              "      <td>2.0</td>\n",
              "      <td>6.615385</td>\n",
              "      <td>1</td>\n",
              "    </tr>\n",
              "    <tr>\n",
              "      <th>123</th>\n",
              "      <td>1312200</td>\n",
              "      <td>Ahmedabad</td>\n",
              "      <td>Gujarat Titans</td>\n",
              "      <td>Rajasthan Royals</td>\n",
              "      <td>Gujarat Titans</td>\n",
              "      <td>130</td>\n",
              "      <td>2</td>\n",
              "      <td>0</td>\n",
              "      <td>4</td>\n",
              "      <td>0</td>\n",
              "      <td>...</td>\n",
              "      <td>Gujarat Titans</td>\n",
              "      <td>Rajasthan Royals</td>\n",
              "      <td>1</td>\n",
              "      <td>129</td>\n",
              "      <td>116</td>\n",
              "      <td>10</td>\n",
              "      <td>10</td>\n",
              "      <td>1.5</td>\n",
              "      <td>6.672414</td>\n",
              "      <td>1</td>\n",
              "    </tr>\n",
              "    <tr>\n",
              "      <th>124</th>\n",
              "      <td>1312200</td>\n",
              "      <td>Ahmedabad</td>\n",
              "      <td>Gujarat Titans</td>\n",
              "      <td>Rajasthan Royals</td>\n",
              "      <td>Gujarat Titans</td>\n",
              "      <td>130</td>\n",
              "      <td>2</td>\n",
              "      <td>0</td>\n",
              "      <td>5</td>\n",
              "      <td>0</td>\n",
              "      <td>...</td>\n",
              "      <td>Gujarat Titans</td>\n",
              "      <td>Rajasthan Royals</td>\n",
              "      <td>1</td>\n",
              "      <td>129</td>\n",
              "      <td>115</td>\n",
              "      <td>10</td>\n",
              "      <td>10</td>\n",
              "      <td>1.2</td>\n",
              "      <td>6.730435</td>\n",
              "      <td>1</td>\n",
              "    </tr>\n",
              "  </tbody>\n",
              "</table>\n",
              "<p>5 rows × 22 columns</p>\n",
              "</div>"
            ],
            "text/plain": [
              "          ID       City     WinningTeam             Team1           Team2  \\\n",
              "120  1312200  Ahmedabad  Gujarat Titans  Rajasthan Royals  Gujarat Titans   \n",
              "121  1312200  Ahmedabad  Gujarat Titans  Rajasthan Royals  Gujarat Titans   \n",
              "122  1312200  Ahmedabad  Gujarat Titans  Rajasthan Royals  Gujarat Titans   \n",
              "123  1312200  Ahmedabad  Gujarat Titans  Rajasthan Royals  Gujarat Titans   \n",
              "124  1312200  Ahmedabad  Gujarat Titans  Rajasthan Royals  Gujarat Titans   \n",
              "\n",
              "     total_run_x  innings  overs  ballnumber  total_run_y  ...  \\\n",
              "120          130        2      0           1            0  ...   \n",
              "121          130        2      0           2            0  ...   \n",
              "122          130        2      0           3            1  ...   \n",
              "123          130        2      0           4            0  ...   \n",
              "124          130        2      0           5            0  ...   \n",
              "\n",
              "        BattingTeam       BallingTeam current_score runs_left  balls_left  \\\n",
              "120  Gujarat Titans  Rajasthan Royals             0       130         119   \n",
              "121  Gujarat Titans  Rajasthan Royals             0       130         118   \n",
              "122  Gujarat Titans  Rajasthan Royals             1       129         117   \n",
              "123  Gujarat Titans  Rajasthan Royals             1       129         116   \n",
              "124  Gujarat Titans  Rajasthan Royals             1       129         115   \n",
              "\n",
              "     wicket_left  wickets  crr       rrr  result  \n",
              "120           10       10  0.0  6.554622       1  \n",
              "121           10       10  0.0  6.610169       1  \n",
              "122           10       10  2.0  6.615385       1  \n",
              "123           10       10  1.5  6.672414       1  \n",
              "124           10       10  1.2  6.730435       1  \n",
              "\n",
              "[5 rows x 22 columns]"
            ]
          },
          "execution_count": 39,
          "metadata": {},
          "output_type": "execute_result"
        }
      ],
      "source": [
        "# calculating result because here data is of inning 2 so batting team is can be WinningTeam or not\n",
        "delivery_df['result'] = np.where(delivery_df['WinningTeam'] == delivery_df['BattingTeam'], 1, 0)\n",
        "delivery_df.head()"
      ]
    },
    {
      "cell_type": "markdown",
      "metadata": {
        "id": "ZvsGzKjQ6kxe"
      },
      "source": [
        "#final_df : by extracting needed column and shuffling rows for model from delivery_df"
      ]
    },
    {
      "cell_type": "code",
      "execution_count": 40,
      "metadata": {
        "colab": {
          "base_uri": "https://localhost:8080/"
        },
        "id": "DTygiwLB_2H9",
        "outputId": "30ea5884-1cb5-4810-bd78-ee5029078150"
      },
      "outputs": [
        {
          "data": {
            "text/html": [
              "<div>\n",
              "<style scoped>\n",
              "    .dataframe tbody tr th:only-of-type {\n",
              "        vertical-align: middle;\n",
              "    }\n",
              "\n",
              "    .dataframe tbody tr th {\n",
              "        vertical-align: top;\n",
              "    }\n",
              "\n",
              "    .dataframe thead th {\n",
              "        text-align: right;\n",
              "    }\n",
              "</style>\n",
              "<table border=\"1\" class=\"dataframe\">\n",
              "  <thead>\n",
              "    <tr style=\"text-align: right;\">\n",
              "      <th></th>\n",
              "      <th>BattingTeam</th>\n",
              "      <th>BallingTeam</th>\n",
              "      <th>City</th>\n",
              "      <th>runs_left</th>\n",
              "      <th>balls_left</th>\n",
              "      <th>wicket_left</th>\n",
              "      <th>total_run_x</th>\n",
              "      <th>crr</th>\n",
              "      <th>rrr</th>\n",
              "      <th>result</th>\n",
              "    </tr>\n",
              "  </thead>\n",
              "  <tbody>\n",
              "    <tr>\n",
              "      <th>120</th>\n",
              "      <td>Gujarat Titans</td>\n",
              "      <td>Rajasthan Royals</td>\n",
              "      <td>Ahmedabad</td>\n",
              "      <td>130</td>\n",
              "      <td>119</td>\n",
              "      <td>10</td>\n",
              "      <td>130</td>\n",
              "      <td>0.0</td>\n",
              "      <td>6.554622</td>\n",
              "      <td>1</td>\n",
              "    </tr>\n",
              "    <tr>\n",
              "      <th>121</th>\n",
              "      <td>Gujarat Titans</td>\n",
              "      <td>Rajasthan Royals</td>\n",
              "      <td>Ahmedabad</td>\n",
              "      <td>130</td>\n",
              "      <td>118</td>\n",
              "      <td>10</td>\n",
              "      <td>130</td>\n",
              "      <td>0.0</td>\n",
              "      <td>6.610169</td>\n",
              "      <td>1</td>\n",
              "    </tr>\n",
              "  </tbody>\n",
              "</table>\n",
              "</div>"
            ],
            "text/plain": [
              "        BattingTeam       BallingTeam       City  runs_left  balls_left  \\\n",
              "120  Gujarat Titans  Rajasthan Royals  Ahmedabad        130         119   \n",
              "121  Gujarat Titans  Rajasthan Royals  Ahmedabad        130         118   \n",
              "\n",
              "     wicket_left  total_run_x  crr       rrr  result  \n",
              "120           10          130  0.0  6.554622       1  \n",
              "121           10          130  0.0  6.610169       1  "
            ]
          },
          "execution_count": 40,
          "metadata": {},
          "output_type": "execute_result"
        }
      ],
      "source": [
        "# creating final df using needed columns\n",
        "final_df = delivery_df[['BattingTeam','BallingTeam','City','runs_left','balls_left','wicket_left','total_run_x','crr','rrr','result']]\n",
        "final_df.head(2)"
      ]
    },
    {
      "cell_type": "code",
      "execution_count": 41,
      "metadata": {
        "colab": {
          "base_uri": "https://localhost:8080/"
        },
        "id": "UdzPWUGXAa2N",
        "outputId": "706e26fa-5eb6-4a84-e23c-f749b3e2dacc"
      },
      "outputs": [
        {
          "data": {
            "text/html": [
              "<div>\n",
              "<style scoped>\n",
              "    .dataframe tbody tr th:only-of-type {\n",
              "        vertical-align: middle;\n",
              "    }\n",
              "\n",
              "    .dataframe tbody tr th {\n",
              "        vertical-align: top;\n",
              "    }\n",
              "\n",
              "    .dataframe thead th {\n",
              "        text-align: right;\n",
              "    }\n",
              "</style>\n",
              "<table border=\"1\" class=\"dataframe\">\n",
              "  <thead>\n",
              "    <tr style=\"text-align: right;\">\n",
              "      <th></th>\n",
              "      <th>BattingTeam</th>\n",
              "      <th>BallingTeam</th>\n",
              "      <th>City</th>\n",
              "      <th>runs_left</th>\n",
              "      <th>balls_left</th>\n",
              "      <th>wicket_left</th>\n",
              "      <th>total_run_x</th>\n",
              "      <th>crr</th>\n",
              "      <th>rrr</th>\n",
              "      <th>result</th>\n",
              "    </tr>\n",
              "  </thead>\n",
              "  <tbody>\n",
              "    <tr>\n",
              "      <th>125932</th>\n",
              "      <td>Royal Challengers Bangalore</td>\n",
              "      <td>Sunrisers Hyderabad</td>\n",
              "      <td>Bangalore</td>\n",
              "      <td>40</td>\n",
              "      <td>25</td>\n",
              "      <td>6</td>\n",
              "      <td>155</td>\n",
              "      <td>7.263158</td>\n",
              "      <td>9.600000</td>\n",
              "      <td>1</td>\n",
              "    </tr>\n",
              "    <tr>\n",
              "      <th>11034</th>\n",
              "      <td>Gujarat Titans</td>\n",
              "      <td>Chennai Super Kings</td>\n",
              "      <td>Pune</td>\n",
              "      <td>101</td>\n",
              "      <td>55</td>\n",
              "      <td>6</td>\n",
              "      <td>169</td>\n",
              "      <td>6.276923</td>\n",
              "      <td>11.018182</td>\n",
              "      <td>1</td>\n",
              "    </tr>\n",
              "  </tbody>\n",
              "</table>\n",
              "</div>"
            ],
            "text/plain": [
              "                        BattingTeam          BallingTeam       City  \\\n",
              "125932  Royal Challengers Bangalore  Sunrisers Hyderabad  Bangalore   \n",
              "11034                Gujarat Titans  Chennai Super Kings       Pune   \n",
              "\n",
              "        runs_left  balls_left  wicket_left  total_run_x       crr        rrr  \\\n",
              "125932         40          25            6          155  7.263158   9.600000   \n",
              "11034         101          55            6          169  6.276923  11.018182   \n",
              "\n",
              "        result  \n",
              "125932       1  \n",
              "11034        1  "
            ]
          },
          "execution_count": 41,
          "metadata": {},
          "output_type": "execute_result"
        }
      ],
      "source": [
        "# here all data are arranged ball by ball so it can create bias, for this we are shuffling all rows\n",
        "final_df = final_df.sample(final_df.shape[0])\n",
        "final_df.head(2)"
      ]
    },
    {
      "cell_type": "markdown",
      "metadata": {
        "id": "CE-YnYvK7Mgp"
      },
      "source": [
        "#model creation using pipeline and Logistic regression"
      ]
    },
    {
      "cell_type": "code",
      "execution_count": 42,
      "metadata": {
        "id": "_NapNQfzFE7H"
      },
      "outputs": [],
      "source": [
        "X = final_df.iloc[:,:-1]\n",
        "y = final_df.iloc[:,-1]\n",
        "X_train,X_test,y_train,y_test = train_test_split(X,y,test_size=0.2,random_state=1)"
      ]
    },
    {
      "cell_type": "code",
      "execution_count": 43,
      "metadata": {
        "id": "Me_p4tyGDpIr"
      },
      "outputs": [],
      "source": [
        "trf1 = ColumnTransformer([\n",
        "    ('ohe',OneHotEncoder(sparse_output=False,drop='first'),['BattingTeam','BallingTeam','City'])\n",
        "],remainder='passthrough')"
      ]
    },
    {
      "cell_type": "code",
      "execution_count": 44,
      "metadata": {
        "id": "X1zs3yaFEdA9"
      },
      "outputs": [],
      "source": [
        "pipe = Pipeline(steps=[\n",
        "        ('step1',trf1),\n",
        "        ('step2',LogisticRegression(solver='liblinear'))\n",
        "    ])"
      ]
    },
    {
      "cell_type": "code",
      "execution_count": 45,
      "metadata": {
        "colab": {
          "base_uri": "https://localhost:8080/"
        },
        "id": "MKsVtIhqF4Q0",
        "outputId": "d72e6f17-ce79-46bb-ed75-bdb5c273e2bd"
      },
      "outputs": [
        {
          "name": "stdout",
          "output_type": "stream",
          "text": [
            "0.8256564786913474\n"
          ]
        }
      ],
      "source": [
        "pipe.fit(X_train,y_train)\n",
        "y_pred = pipe.predict(X_test)\n",
        "print(accuracy_score(y_test,y_pred))"
      ]
    },
    {
      "cell_type": "code",
      "execution_count": 46,
      "metadata": {
        "colab": {
          "base_uri": "https://localhost:8080/"
        },
        "id": "fCeH-0YIGLIY",
        "outputId": "ec48b427-f0d6-4f67-f135-a2bec3f2d017"
      },
      "outputs": [
        {
          "data": {
            "text/plain": [
              "array([0.12214096, 0.87785904])"
            ]
          },
          "execution_count": 46,
          "metadata": {},
          "output_type": "execute_result"
        }
      ],
      "source": [
        "pipe.predict_proba(X_test)[10]"
      ]
    },
    {
      "cell_type": "code",
      "execution_count": 47,
      "metadata": {
        "colab": {
          "base_uri": "https://localhost:8080/"
        },
        "id": "zVx0s11VTdqL",
        "outputId": "b267aa3d-928f-454e-8b81-b6b1dae997b3"
      },
      "outputs": [
        {
          "data": {
            "text/plain": [
              "np.int64(1)"
            ]
          },
          "execution_count": 47,
          "metadata": {},
          "output_type": "execute_result"
        }
      ],
      "source": [
        "pipe.predict(X_test)[10]"
      ]
    },
    {
      "cell_type": "markdown",
      "metadata": {
        "id": "5AWWdNEhm3B9"
      },
      "source": [
        "#visualization"
      ]
    },
    {
      "cell_type": "code",
      "execution_count": 48,
      "metadata": {
        "colab": {
          "base_uri": "https://localhost:8080/",
          "height": 206
        },
        "id": "1V5BCIEPm65v",
        "outputId": "dbcb6996-3aa7-4b3f-fc44-a5c6e7a4f838"
      },
      "outputs": [
        {
          "data": {
            "text/html": [
              "<div>\n",
              "<style scoped>\n",
              "    .dataframe tbody tr th:only-of-type {\n",
              "        vertical-align: middle;\n",
              "    }\n",
              "\n",
              "    .dataframe tbody tr th {\n",
              "        vertical-align: top;\n",
              "    }\n",
              "\n",
              "    .dataframe thead th {\n",
              "        text-align: right;\n",
              "    }\n",
              "</style>\n",
              "<table border=\"1\" class=\"dataframe\">\n",
              "  <thead>\n",
              "    <tr style=\"text-align: right;\">\n",
              "      <th></th>\n",
              "      <th>BattingTeam</th>\n",
              "      <th>BallingTeam</th>\n",
              "      <th>City</th>\n",
              "      <th>runs_left</th>\n",
              "      <th>balls_left</th>\n",
              "      <th>wicket_left</th>\n",
              "      <th>total_run_x</th>\n",
              "      <th>crr</th>\n",
              "      <th>rrr</th>\n",
              "      <th>result</th>\n",
              "    </tr>\n",
              "  </thead>\n",
              "  <tbody>\n",
              "    <tr>\n",
              "      <th>125932</th>\n",
              "      <td>Royal Challengers Bangalore</td>\n",
              "      <td>Sunrisers Hyderabad</td>\n",
              "      <td>Bangalore</td>\n",
              "      <td>40</td>\n",
              "      <td>25</td>\n",
              "      <td>6</td>\n",
              "      <td>155</td>\n",
              "      <td>7.263158</td>\n",
              "      <td>9.600000</td>\n",
              "      <td>1</td>\n",
              "    </tr>\n",
              "    <tr>\n",
              "      <th>11034</th>\n",
              "      <td>Gujarat Titans</td>\n",
              "      <td>Chennai Super Kings</td>\n",
              "      <td>Pune</td>\n",
              "      <td>101</td>\n",
              "      <td>55</td>\n",
              "      <td>6</td>\n",
              "      <td>169</td>\n",
              "      <td>6.276923</td>\n",
              "      <td>11.018182</td>\n",
              "      <td>1</td>\n",
              "    </tr>\n",
              "    <tr>\n",
              "      <th>1597</th>\n",
              "      <td>Rajasthan Royals</td>\n",
              "      <td>Chennai Super Kings</td>\n",
              "      <td>Mumbai</td>\n",
              "      <td>104</td>\n",
              "      <td>91</td>\n",
              "      <td>9</td>\n",
              "      <td>150</td>\n",
              "      <td>9.517241</td>\n",
              "      <td>6.857143</td>\n",
              "      <td>1</td>\n",
              "    </tr>\n",
              "    <tr>\n",
              "      <th>5672</th>\n",
              "      <td>Gujarat Titans</td>\n",
              "      <td>Mumbai Indians</td>\n",
              "      <td>Mumbai</td>\n",
              "      <td>124</td>\n",
              "      <td>85</td>\n",
              "      <td>10</td>\n",
              "      <td>177</td>\n",
              "      <td>9.085714</td>\n",
              "      <td>8.752941</td>\n",
              "      <td>0</td>\n",
              "    </tr>\n",
              "    <tr>\n",
              "      <th>60933</th>\n",
              "      <td>Kolkata Knight Riders</td>\n",
              "      <td>Sunrisers Hyderabad</td>\n",
              "      <td>Kolkata</td>\n",
              "      <td>105</td>\n",
              "      <td>59</td>\n",
              "      <td>9</td>\n",
              "      <td>181</td>\n",
              "      <td>7.475410</td>\n",
              "      <td>10.677966</td>\n",
              "      <td>1</td>\n",
              "    </tr>\n",
              "  </tbody>\n",
              "</table>\n",
              "</div>"
            ],
            "text/plain": [
              "                        BattingTeam          BallingTeam       City  \\\n",
              "125932  Royal Challengers Bangalore  Sunrisers Hyderabad  Bangalore   \n",
              "11034                Gujarat Titans  Chennai Super Kings       Pune   \n",
              "1597               Rajasthan Royals  Chennai Super Kings     Mumbai   \n",
              "5672                 Gujarat Titans       Mumbai Indians     Mumbai   \n",
              "60933         Kolkata Knight Riders  Sunrisers Hyderabad    Kolkata   \n",
              "\n",
              "        runs_left  balls_left  wicket_left  total_run_x       crr        rrr  \\\n",
              "125932         40          25            6          155  7.263158   9.600000   \n",
              "11034         101          55            6          169  6.276923  11.018182   \n",
              "1597          104          91            9          150  9.517241   6.857143   \n",
              "5672          124          85           10          177  9.085714   8.752941   \n",
              "60933         105          59            9          181  7.475410  10.677966   \n",
              "\n",
              "        result  \n",
              "125932       1  \n",
              "11034        1  \n",
              "1597         1  \n",
              "5672         0  \n",
              "60933        1  "
            ]
          },
          "execution_count": 48,
          "metadata": {},
          "output_type": "execute_result"
        }
      ],
      "source": [
        "final_df.head()"
      ]
    },
    {
      "cell_type": "code",
      "execution_count": 49,
      "metadata": {
        "id": "qKCC9w-uTmWF"
      },
      "outputs": [],
      "source": [
        "def match_summary(row):\n",
        "    print(\"Batting Team : \" + row['BattingTeam'] + \" \\nBowling Team : \" + row['BallingTeam'] + \" \\nTarget : \" + str(row['total_run_x']))\n"
      ]
    },
    {
      "cell_type": "code",
      "execution_count": 50,
      "metadata": {
        "colab": {
          "base_uri": "https://localhost:8080/"
        },
        "id": "oVcITDIbUJpf",
        "outputId": "95899165-5376-472c-d293-9c4f8b75482f"
      },
      "outputs": [
        {
          "name": "stdout",
          "output_type": "stream",
          "text": [
            "Batting Team : Mumbai Indians \n",
            "Bowling Team : Delhi Daredevils \n",
            "Target : 164\n"
          ]
        }
      ],
      "source": [
        "match_summary(X_test.iloc[4])"
      ]
    },
    {
      "cell_type": "code",
      "execution_count": 51,
      "metadata": {
        "id": "d2wiIGaKrQzP"
      },
      "outputs": [],
      "source": [
        "l = delivery_df['ID'].unique()"
      ]
    },
    {
      "cell_type": "code",
      "execution_count": 52,
      "metadata": {
        "colab": {
          "base_uri": "https://localhost:8080/"
        },
        "id": "o1vfrqt4rqZZ",
        "outputId": "54fdbd71-fac0-4413-e5d4-e1f00df83867"
      },
      "outputs": [
        {
          "data": {
            "text/plain": [
              "array([ 335982,  335985,  335986,  335987,  335989,  335990,  335991,\n",
              "        335992,  335993,  335996,  335997,  335998,  336000,  336002,\n",
              "        336003,  336005,  336008,  336009,  336010,  336011,  336012,\n",
              "        336015,  336018,  336019,  336021,  336023,  336025,  336027,\n",
              "        336028,  336029,  336033,  336035,  336036,  336037,  336039,\n",
              "        336040,  392181,  392182,  392185,  392186,  392188,  392189,\n",
              "        392190,  392192,  392195,  392197,  392198,  392199,  392200,\n",
              "        392202,  392203,  392205,  392208,  392212,  392213,  392217,\n",
              "        392218,  392220,  392221,  392222,  392224,  392225,  392227,\n",
              "        392230,  392231,  392232,  392233,  392238,  392239,  419107,\n",
              "        419109,  419110,  419112,  419113,  419115,  419116,  419118,\n",
              "        419119,  419121,  419122,  419123,  419125,  419126,  419128,\n",
              "        419129,  419131,  419132,  419133,  419134,  419136,  419137,\n",
              "        419140,  419142,  419143,  419148,  419150,  419151,  419153,\n",
              "        419154,  419157,  419158,  419159,  419161,  419162,  419164,\n",
              "        419165,  501198,  501199,  501200,  501201,  501204,  501205,\n",
              "        501208,  501209,  501211,  501214,  501218,  501219,  501220,\n",
              "        501221,  501222,  501225,  501227,  501228,  501231,  501234,\n",
              "        501235,  501240,  501242,  501245,  501247,  501249,  501251,\n",
              "        501252,  501255,  501256,  501260,  501262,  501263,  501266,\n",
              "        501267,  501268,  501269,  501270,  501271,  548306,  548308,\n",
              "        548312,  548314,  548315,  548317,  548318,  548320,  548323,\n",
              "        548324,  548326,  548327,  548328,  548331,  548332,  548335,\n",
              "        548336,  548339,  548342,  548343,  548344,  548345,  548346,\n",
              "        548347,  548355,  548356,  548357,  548358,  548360,  548361,\n",
              "        548363,  548364,  548367,  548368,  548370,  548376,  548377,\n",
              "        548379,  548381,  597998,  597999,  598002,  598004,  598005,\n",
              "        598007,  598008,  598010,  598012,  598013,  598014,  598015,\n",
              "        598016,  598017,  598019,  598021,  598022,  598023,  598026,\n",
              "        598029,  598030,  598031,  598032,  598033,  598034,  598036,\n",
              "        598039,  598043,  598044,  598046,  598047,  598048,  598049,\n",
              "        598050,  598051,  598052,  598055,  598057,  598058,  598060,\n",
              "        598061,  598063,  598065,  598066,  598068,  598069,  598070,\n",
              "        598071,  598072,  598073,  729279,  729285,  729305,  729307,\n",
              "        729315,  733971,  733973,  733975,  733977,  733979,  733981,\n",
              "        733983,  733985,  733987,  733989,  733991,  733993,  733995,\n",
              "        733997,  733999,  734001,  734003,  734009,  734013,  734015,\n",
              "        734017,  734021,  734023,  734025,  734027,  734029,  734033,\n",
              "        734035,  734037,  734041,  734045,  734047,  734049,  829705,\n",
              "        829711,  829713,  829715,  829717,  829719,  829721,  829723,\n",
              "        829727,  829729,  829731,  829733,  829735,  829737,  829739,\n",
              "        829743,  829745,  829747,  829749,  829751,  829757,  829765,\n",
              "        829769,  829771,  829773,  829779,  829781,  829783,  829787,\n",
              "        829789,  829791,  829795,  829797,  829803,  829805,  829807,\n",
              "        829809,  829811,  829815,  829817,  829819,  829821,  829823,\n",
              "        980903,  980907,  980909,  980915,  980923,  980925,  980927,\n",
              "        980929,  980933,  980935,  980939,  980947,  980951,  980953,\n",
              "        980957,  980959,  980967,  980969,  980973,  980981,  980989,\n",
              "        980991,  980995,  981009,  981011,  981013,  981015,  981017,\n",
              "        981019, 1082591, 1082593, 1082596, 1082597, 1082600, 1082601,\n",
              "       1082602, 1082604, 1082606, 1082607, 1082608, 1082612, 1082617,\n",
              "       1082618, 1082620, 1082622, 1082624, 1082625, 1082627, 1082628,\n",
              "       1082633, 1082634, 1082636, 1082638, 1082639, 1082641, 1082643,\n",
              "       1082644, 1082647, 1082648, 1082649, 1136561, 1136563, 1136564,\n",
              "       1136565, 1136567, 1136568, 1136570, 1136571, 1136572, 1136574,\n",
              "       1136575, 1136576, 1136577, 1136579, 1136580, 1136581, 1136583,\n",
              "       1136584, 1136586, 1136587, 1136588, 1136589, 1136591, 1136592,\n",
              "       1136593, 1136594, 1136595, 1136596, 1136597, 1136599, 1136601,\n",
              "       1136602, 1136603, 1136605, 1136606, 1136607, 1136608, 1136609,\n",
              "       1136611, 1136612, 1136613, 1136614, 1136615, 1136616, 1136617,\n",
              "       1136618, 1136619, 1136620, 1175356, 1175357, 1175358, 1175359,\n",
              "       1175360, 1175362, 1175363, 1175365, 1175366, 1175367, 1175368,\n",
              "       1175369, 1175370, 1175371, 1175372, 1178394, 1178395, 1178396,\n",
              "       1178398, 1178399, 1178400, 1178401, 1178402, 1178403, 1178404,\n",
              "       1178405, 1178406, 1178407, 1178408, 1178409, 1178410, 1178411,\n",
              "       1178412, 1178413, 1178414, 1178415, 1178416, 1178418, 1178419,\n",
              "       1178420, 1178421, 1178422, 1178425, 1178426, 1178427, 1178428,\n",
              "       1178429, 1178431, 1181764, 1181766, 1181767, 1181768, 1216492,\n",
              "       1216494, 1216497, 1216499, 1216501, 1216505, 1216506, 1216508,\n",
              "       1216511, 1216512, 1216514, 1216526, 1216529, 1216532, 1216533,\n",
              "       1216537, 1216541, 1216545, 1237178, 1237180, 1254058, 1254059,\n",
              "       1254060, 1254061, 1254062, 1254063, 1254064, 1254065, 1254066,\n",
              "       1254067, 1254068, 1254069, 1254070, 1254071, 1254072, 1254073,\n",
              "       1254074, 1254075, 1254076, 1254077, 1254078, 1254079, 1254080,\n",
              "       1254081, 1254082, 1254083, 1254084, 1254085, 1254086, 1254087,\n",
              "       1254088, 1254089, 1254090, 1254091, 1254092, 1254093, 1254094,\n",
              "       1254095, 1254096, 1254097, 1254098, 1254099, 1254100, 1254101,\n",
              "       1254102, 1254103, 1254104, 1254105, 1254106, 1254107, 1254108,\n",
              "       1254109, 1254110, 1254111, 1254112, 1254113, 1254114, 1254115,\n",
              "       1254116, 1254117, 1304047, 1304048, 1304049, 1304050, 1304051,\n",
              "       1304052, 1304053, 1304054, 1304055, 1304056, 1304057, 1304058,\n",
              "       1304059, 1304060, 1304061, 1304062, 1304063, 1304064, 1304065,\n",
              "       1304066, 1304067, 1304068, 1304069, 1304070, 1304071, 1304072,\n",
              "       1304073, 1304074, 1304075, 1304076, 1304077, 1304078, 1304079,\n",
              "       1304080, 1304081, 1304082, 1304083, 1304084, 1304085, 1304086,\n",
              "       1304087, 1304088, 1304089, 1304090, 1304091, 1304092, 1304093,\n",
              "       1304094, 1304095, 1304096, 1304097, 1304098, 1304099, 1304100,\n",
              "       1304101, 1304102, 1304103, 1304104, 1304105, 1304106, 1304107,\n",
              "       1304108, 1304109, 1304110, 1304111, 1304112, 1304113, 1304114,\n",
              "       1304115, 1304116, 1312197, 1312198, 1312199, 1312200])"
            ]
          },
          "execution_count": 52,
          "metadata": {},
          "output_type": "execute_result"
        }
      ],
      "source": [
        "# choose id from here to visualize\n",
        "np.sort(l)"
      ]
    },
    {
      "cell_type": "code",
      "execution_count": 53,
      "metadata": {
        "id": "mvMJCiTzBAun"
      },
      "outputs": [],
      "source": [
        "def match_summary(row):\n",
        "    print(\"Batting Team : \" + row['BattingTeam'] + \" \\nBowling Team : \" + row['BallingTeam'] + \" \\nTarget : \" + str(row['total_run_x']))"
      ]
    },
    {
      "cell_type": "code",
      "execution_count": 54,
      "metadata": {
        "id": "eyWwt08YUYKY"
      },
      "outputs": [],
      "source": [
        "def match_progression(x_df,match_id,pipe):\n",
        "\n",
        "    t_df = x_df[x_df['ID'] == match_id] # fetching data of given id\n",
        "\n",
        "    t_df = t_df[(t_df['ballnumber'] == 6)] # row of last ball of over\n",
        "\n",
        "    temp_df = t_df[['BattingTeam','BallingTeam','City','runs_left','balls_left','wicket_left','total_run_x','crr','rrr']].dropna()\n",
        "    temp_df = temp_df[temp_df['balls_left'] != 0] # row of last ball removed\n",
        "    result = pipe.predict_proba(temp_df) # predict\n",
        "\n",
        "    temp_df['lose'] = np.round(result.T[0]*100,1) # roundoff by 1 and fetching lose prob\n",
        "    temp_df['win'] = np.round(result.T[1]*100,1) # roundoff by 1 and fetching win prob\n",
        "    temp_df['end_of_over'] = range(1,temp_df.shape[0]+1) # 1 to 19 overs\n",
        "\n",
        "    target = temp_df['total_run_x'].values[0]\n",
        "    runs = list(temp_df['runs_left'].values)\n",
        "    new_runs = runs[:]\n",
        "    runs.insert(0,target)\n",
        "    temp_df['runs_in_over'] = np.array(runs)[:-1] - np.array(new_runs)\n",
        "    wickets = list(temp_df['wicket_left'].values)\n",
        "    new_wickets = wickets[:]\n",
        "    new_wickets.insert(0,10)\n",
        "    wickets.append(0)\n",
        "    w = np.array(wickets)\n",
        "    nw = np.array(new_wickets)\n",
        "    temp_df['wickets_in_over'] = (nw - w)[0:temp_df.shape[0]]\n",
        "\n",
        "    match_summary(temp_df.iloc[-1])\n",
        "    actual_result = t_df['result']\n",
        "    print(\"Actual Result : \",actual_result.values[0])\n",
        "    print(\"Prediction : \",pipe.predict(temp_df)[0])\n",
        "    temp_df = temp_df[['end_of_over','runs_in_over','wickets_in_over','win','lose']]\n",
        "    return temp_df,target\n"
      ]
    },
    {
      "cell_type": "code",
      "execution_count": 55,
      "metadata": {
        "colab": {
          "base_uri": "https://localhost:8080/",
          "height": 756
        },
        "id": "WRy08Y6sUtzA",
        "outputId": "cf4318b0-df96-4b16-cae5-7367af59e4e6"
      },
      "outputs": [
        {
          "name": "stdout",
          "output_type": "stream",
          "text": [
            "Batting Team : Mumbai Indians \n",
            "Bowling Team : Kings XI Punjab \n",
            "Target : 189\n",
            "Actual Result :  0\n",
            "Prediction :  0\n"
          ]
        },
        {
          "data": {
            "text/html": [
              "<div>\n",
              "<style scoped>\n",
              "    .dataframe tbody tr th:only-of-type {\n",
              "        vertical-align: middle;\n",
              "    }\n",
              "\n",
              "    .dataframe tbody tr th {\n",
              "        vertical-align: top;\n",
              "    }\n",
              "\n",
              "    .dataframe thead th {\n",
              "        text-align: right;\n",
              "    }\n",
              "</style>\n",
              "<table border=\"1\" class=\"dataframe\">\n",
              "  <thead>\n",
              "    <tr style=\"text-align: right;\">\n",
              "      <th></th>\n",
              "      <th>end_of_over</th>\n",
              "      <th>runs_in_over</th>\n",
              "      <th>wickets_in_over</th>\n",
              "      <th>win</th>\n",
              "      <th>lose</th>\n",
              "    </tr>\n",
              "  </thead>\n",
              "  <tbody>\n",
              "    <tr>\n",
              "      <th>215720</th>\n",
              "      <td>1</td>\n",
              "      <td>9</td>\n",
              "      <td>0</td>\n",
              "      <td>33.7</td>\n",
              "      <td>66.3</td>\n",
              "    </tr>\n",
              "    <tr>\n",
              "      <th>215729</th>\n",
              "      <td>2</td>\n",
              "      <td>21</td>\n",
              "      <td>0</td>\n",
              "      <td>52.7</td>\n",
              "      <td>47.3</td>\n",
              "    </tr>\n",
              "    <tr>\n",
              "      <th>215736</th>\n",
              "      <td>3</td>\n",
              "      <td>6</td>\n",
              "      <td>1</td>\n",
              "      <td>41.4</td>\n",
              "      <td>58.6</td>\n",
              "    </tr>\n",
              "    <tr>\n",
              "      <th>215742</th>\n",
              "      <td>4</td>\n",
              "      <td>4</td>\n",
              "      <td>0</td>\n",
              "      <td>41.1</td>\n",
              "      <td>58.9</td>\n",
              "    </tr>\n",
              "    <tr>\n",
              "      <th>215748</th>\n",
              "      <td>5</td>\n",
              "      <td>16</td>\n",
              "      <td>0</td>\n",
              "      <td>56.0</td>\n",
              "      <td>44.0</td>\n",
              "    </tr>\n",
              "    <tr>\n",
              "      <th>215754</th>\n",
              "      <td>6</td>\n",
              "      <td>12</td>\n",
              "      <td>0</td>\n",
              "      <td>65.7</td>\n",
              "      <td>34.3</td>\n",
              "    </tr>\n",
              "    <tr>\n",
              "      <th>215760</th>\n",
              "      <td>7</td>\n",
              "      <td>6</td>\n",
              "      <td>0</td>\n",
              "      <td>67.5</td>\n",
              "      <td>32.5</td>\n",
              "    </tr>\n",
              "    <tr>\n",
              "      <th>215766</th>\n",
              "      <td>8</td>\n",
              "      <td>7</td>\n",
              "      <td>0</td>\n",
              "      <td>70.2</td>\n",
              "      <td>29.8</td>\n",
              "    </tr>\n",
              "    <tr>\n",
              "      <th>215772</th>\n",
              "      <td>9</td>\n",
              "      <td>2</td>\n",
              "      <td>1</td>\n",
              "      <td>52.5</td>\n",
              "      <td>47.5</td>\n",
              "    </tr>\n",
              "    <tr>\n",
              "      <th>215778</th>\n",
              "      <td>10</td>\n",
              "      <td>7</td>\n",
              "      <td>0</td>\n",
              "      <td>54.9</td>\n",
              "      <td>45.1</td>\n",
              "    </tr>\n",
              "    <tr>\n",
              "      <th>215784</th>\n",
              "      <td>11</td>\n",
              "      <td>9</td>\n",
              "      <td>0</td>\n",
              "      <td>60.0</td>\n",
              "      <td>40.0</td>\n",
              "    </tr>\n",
              "    <tr>\n",
              "      <th>215790</th>\n",
              "      <td>12</td>\n",
              "      <td>9</td>\n",
              "      <td>0</td>\n",
              "      <td>64.8</td>\n",
              "      <td>35.2</td>\n",
              "    </tr>\n",
              "    <tr>\n",
              "      <th>215796</th>\n",
              "      <td>13</td>\n",
              "      <td>19</td>\n",
              "      <td>0</td>\n",
              "      <td>82.5</td>\n",
              "      <td>17.5</td>\n",
              "    </tr>\n",
              "    <tr>\n",
              "      <th>215802</th>\n",
              "      <td>14</td>\n",
              "      <td>7</td>\n",
              "      <td>1</td>\n",
              "      <td>74.2</td>\n",
              "      <td>25.8</td>\n",
              "    </tr>\n",
              "    <tr>\n",
              "      <th>215808</th>\n",
              "      <td>15</td>\n",
              "      <td>10</td>\n",
              "      <td>0</td>\n",
              "      <td>79.9</td>\n",
              "      <td>20.1</td>\n",
              "    </tr>\n",
              "    <tr>\n",
              "      <th>215814</th>\n",
              "      <td>16</td>\n",
              "      <td>12</td>\n",
              "      <td>0</td>\n",
              "      <td>87.3</td>\n",
              "      <td>12.7</td>\n",
              "    </tr>\n",
              "    <tr>\n",
              "      <th>215820</th>\n",
              "      <td>17</td>\n",
              "      <td>3</td>\n",
              "      <td>1</td>\n",
              "      <td>71.1</td>\n",
              "      <td>28.9</td>\n",
              "    </tr>\n",
              "    <tr>\n",
              "      <th>215826</th>\n",
              "      <td>18</td>\n",
              "      <td>4</td>\n",
              "      <td>2</td>\n",
              "      <td>26.7</td>\n",
              "      <td>73.3</td>\n",
              "    </tr>\n",
              "    <tr>\n",
              "      <th>215832</th>\n",
              "      <td>19</td>\n",
              "      <td>8</td>\n",
              "      <td>1</td>\n",
              "      <td>6.0</td>\n",
              "      <td>94.0</td>\n",
              "    </tr>\n",
              "  </tbody>\n",
              "</table>\n",
              "</div>"
            ],
            "text/plain": [
              "        end_of_over  runs_in_over  wickets_in_over   win  lose\n",
              "215720            1             9                0  33.7  66.3\n",
              "215729            2            21                0  52.7  47.3\n",
              "215736            3             6                1  41.4  58.6\n",
              "215742            4             4                0  41.1  58.9\n",
              "215748            5            16                0  56.0  44.0\n",
              "215754            6            12                0  65.7  34.3\n",
              "215760            7             6                0  67.5  32.5\n",
              "215766            8             7                0  70.2  29.8\n",
              "215772            9             2                1  52.5  47.5\n",
              "215778           10             7                0  54.9  45.1\n",
              "215784           11             9                0  60.0  40.0\n",
              "215790           12             9                0  64.8  35.2\n",
              "215796           13            19                0  82.5  17.5\n",
              "215802           14             7                1  74.2  25.8\n",
              "215808           15            10                0  79.9  20.1\n",
              "215814           16            12                0  87.3  12.7\n",
              "215820           17             3                1  71.1  28.9\n",
              "215826           18             4                2  26.7  73.3\n",
              "215832           19             8                1   6.0  94.0"
            ]
          },
          "execution_count": 55,
          "metadata": {},
          "output_type": "execute_result"
        }
      ],
      "source": [
        "temp_df,target = match_progression(delivery_df,336028,pipe)\n",
        "temp_df"
      ]
    },
    {
      "cell_type": "code",
      "execution_count": 57,
      "metadata": {},
      "outputs": [],
      "source": [
        "# # Corrected plotting code\n",
        "# import matplotlib.pyplot as plt\n",
        "\n",
        "# plt.figure(figsize=(18, 8))\n",
        "# plt.plot(temp_df['end_of_over'].to_numpy(), temp_df['wickets_in_over'].to_numpy(), color='black', linewidth=3)\n",
        "# plt.plot(temp_df['end_of_over'].to_numpy(), temp_df['win'].to_numpy(), color='#00a65a', linewidth=4)\n",
        "# plt.plot(temp_df['end_of_over'].to_numpy(), temp_df['lose'].to_numpy(), color='red', linewidth=4)\n",
        "# plt.bar(temp_df['end_of_over'].to_numpy(), temp_df['runs_in_over'].to_numpy())\n",
        "# plt.title('Target : ' + str(target))\n",
        "# plt.legend([\"Wickets out\", \"Win Probability\", \"Lose Probability\"])\n",
        "# plt.show()"
      ]
    },
    {
      "cell_type": "code",
      "execution_count": 58,
      "metadata": {
        "colab": {
          "base_uri": "https://localhost:8080/",
          "height": 699
        },
        "id": "ieVB82B4mX2v",
        "outputId": "8dfe1288-30d1-413b-e281-5749479294c2"
      },
      "outputs": [],
      "source": [
        "# import matplotlib.pyplot as plt\n",
        "# plt.figure(figsize=(18,8))\n",
        "# plt.plot(temp_df['end_of_over'],temp_df['wickets_in_over'],color='black',linewidth=3)\n",
        "# plt.plot(temp_df['end_of_over'],temp_df['win'],color='#00a65a',linewidth=4)\n",
        "# plt.plot(temp_df['end_of_over'],temp_df['lose'],color='red',linewidth=4)\n",
        "# plt.bar(temp_df['end_of_over'],temp_df['runs_in_over'])\n",
        "# plt.title('Target : ' + str(target))\n",
        "# plt.legend([\"Wickets out\",\"Win Probability\",\"Lose Probability\"])\n",
        "# plt.show()"
      ]
    },
    {
      "cell_type": "code",
      "execution_count": 59,
      "metadata": {},
      "outputs": [],
      "source": [
        "pickle.dump(pipe,open('model.pkl','wb'))"
      ]
    },
    {
      "cell_type": "code",
      "execution_count": 60,
      "metadata": {},
      "outputs": [
        {
          "data": {
            "text/plain": [
              "array(['Bangalore', 'Pune', 'Mumbai', 'Kolkata', 'Delhi', 'Jaipur',\n",
              "       'Cuttack', 'Hyderabad', 'Navi Mumbai', 'Abu Dhabi', 'Chennai',\n",
              "       'Sharjah', 'Chandigarh', 'Dubai', 'Bengaluru', 'Ranchi',\n",
              "       'Centurion', 'Durban', 'Port Elizabeth', 'Johannesburg', 'Raipur',\n",
              "       'Cape Town', 'Ahmedabad', 'Dharamsala', 'Indore', 'Rajkot',\n",
              "       'Kimberley', 'Bloemfontein', 'Visakhapatnam', 'Kanpur', 'Kochi',\n",
              "       'Nagpur', 'East London'], dtype=object)"
            ]
          },
          "execution_count": 60,
          "metadata": {},
          "output_type": "execute_result"
        }
      ],
      "source": [
        "final_df['City'].unique()"
      ]
    },
    {
      "cell_type": "code",
      "execution_count": 61,
      "metadata": {},
      "outputs": [
        {
          "data": {
            "text/plain": [
              "array(['Royal Challengers Bangalore', 'Gujarat Titans',\n",
              "       'Rajasthan Royals', 'Kolkata Knight Riders', 'Mumbai Indians',\n",
              "       'Chennai Super Kings', 'Delhi Capitals', 'Punjab Kings',\n",
              "       'Sunrisers Hyderabad', 'Lucknow Super Giants'], dtype=object)"
            ]
          },
          "execution_count": 61,
          "metadata": {},
          "output_type": "execute_result"
        }
      ],
      "source": [
        "final_df['BattingTeam'].unique()"
      ]
    },
    {
      "cell_type": "code",
      "execution_count": 62,
      "metadata": {},
      "outputs": [
        {
          "data": {
            "text/plain": [
              "Index(['BattingTeam', 'BallingTeam', 'City', 'runs_left', 'balls_left',\n",
              "       'wicket_left', 'total_run_x', 'crr', 'rrr', 'result'],\n",
              "      dtype='object')"
            ]
          },
          "execution_count": 62,
          "metadata": {},
          "output_type": "execute_result"
        }
      ],
      "source": [
        "final_df.columns"
      ]
    },
    {
      "cell_type": "code",
      "execution_count": null,
      "metadata": {},
      "outputs": [],
      "source": []
    }
  ],
  "metadata": {
    "colab": {
      "collapsed_sections": [
        "b77cVN7CDYme",
        "Bi_CGnnqvP4o",
        "4VkRxVwBwHYc",
        "kNvrmUisxHl-",
        "X9yBFjxdzvBp",
        "RZKjS0Z5zIfg",
        "H1oeJB1VvagW",
        "5uvw5XbP2Qvl",
        "DIIVvBGP2hnW",
        "F862Z-VnI1HP",
        "aKwyiAa82l8n",
        "TqKwGs1V2vzG",
        "3znwA7rS3g5d",
        "v8LX28MF4R26",
        "Njhrnwd84vS1",
        "fbIjm3nv6HAt",
        "ZvsGzKjQ6kxe",
        "CE-YnYvK7Mgp"
      ],
      "provenance": []
    },
    "kernelspec": {
      "display_name": "ipl",
      "language": "python",
      "name": "python3"
    },
    "language_info": {
      "codemirror_mode": {
        "name": "ipython",
        "version": 3
      },
      "file_extension": ".py",
      "mimetype": "text/x-python",
      "name": "python",
      "nbconvert_exporter": "python",
      "pygments_lexer": "ipython3",
      "version": "3.10.13"
    }
  },
  "nbformat": 4,
  "nbformat_minor": 0
}
