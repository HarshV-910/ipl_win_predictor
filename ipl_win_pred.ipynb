{
  "cells": [
    {
      "cell_type": "code",
      "execution_count": null,
      "metadata": {
        "id": "2whTTjEQNI_H"
      },
      "outputs": [
        {
          "ename": "",
          "evalue": "",
          "output_type": "error",
          "traceback": [
            "\u001b[1;31mRunning cells with 'Python 3.12.9' requires the ipykernel package.\n",
            "\u001b[1;31m<a href='command:jupyter.createPythonEnvAndSelectController'>Create a Python Environment</a> with the required packages.\n",
            "\u001b[1;31mOr install 'ipykernel' using the command: '/usr/local/bin/python3.12 -m pip install ipykernel -U --user --force-reinstall'"
          ]
        }
      ],
      "source": [
        "import pandas as pd\n",
        "import numpy as np\n",
        "from sklearn.model_selection import train_test_split\n",
        "from sklearn.compose import ColumnTransformer\n",
        "from sklearn.preprocessing import OneHotEncoder,LabelEncoder\n",
        "from sklearn.linear_model import LogisticRegression\n",
        "from sklearn.metrics import accuracy_score\n",
        "import pickle\n",
        "from sklearn.pipeline import Pipeline\n"
      ]
    },
    {
      "cell_type": "code",
      "execution_count": null,
      "metadata": {
        "id": "fXfDrnh1OBrS"
      },
      "outputs": [],
      "source": [
        "matches = pd.read_csv('IPL_Matches_2008_2022.csv')\n",
        "delivery = pd.read_csv('IPL_Ball_by_Ball_2008_2022.csv')"
      ]
    },
    {
      "cell_type": "markdown",
      "metadata": {
        "id": "b77cVN7CDYme"
      },
      "source": [
        "# Dataset Creation"
      ]
    },
    {
      "cell_type": "code",
      "execution_count": null,
      "metadata": {
        "colab": {
          "base_uri": "https://localhost:8080/",
          "height": 236
        },
        "id": "FhRWl3iJOQoZ",
        "outputId": "1eaad6b2-ba6f-43ef-c3b6-44137ca9c37d"
      },
      "outputs": [],
      "source": [
        "matches.head(2)"
      ]
    },
    {
      "cell_type": "code",
      "execution_count": null,
      "metadata": {
        "colab": {
          "base_uri": "https://localhost:8080/",
          "height": 184
        },
        "id": "NCy-U4taOVC0",
        "outputId": "c11edf0e-091c-4fb2-bb7f-ae16f742105c"
      },
      "outputs": [],
      "source": [
        "delivery.head(2)"
      ]
    },
    {
      "cell_type": "markdown",
      "metadata": {
        "id": "Bi_CGnnqvP4o"
      },
      "source": [
        "##LE"
      ]
    },
    {
      "cell_type": "code",
      "execution_count": null,
      "metadata": {
        "id": "JDoDpceXsizL"
      },
      "outputs": [],
      "source": [
        "# # prompt: apply label encoder on ID column\n",
        "\n",
        "# # Assuming 'matches' DataFrame is already loaded as shown in the previous code\n",
        "\n",
        "# le = LabelEncoder()\n",
        "# matches['ID'] = le.fit_transform(matches['ID'])\n",
        "# delivery['ID'] = le.transform(delivery['ID'])"
      ]
    },
    {
      "cell_type": "code",
      "execution_count": null,
      "metadata": {
        "id": "_q33WpujunJ2"
      },
      "outputs": [],
      "source": [
        "# matches[matches['ID'] == 1]"
      ]
    },
    {
      "cell_type": "code",
      "execution_count": null,
      "metadata": {
        "id": "iJ3itln_tOaD"
      },
      "outputs": [],
      "source": [
        "# delivery[delivery['ID'] == 1].head(124)"
      ]
    },
    {
      "cell_type": "markdown",
      "metadata": {
        "id": "4VkRxVwBwHYc"
      },
      "source": [
        "##Feature extract"
      ]
    },
    {
      "cell_type": "code",
      "execution_count": null,
      "metadata": {
        "colab": {
          "base_uri": "https://localhost:8080/"
        },
        "id": "ZCyjAI18wkQq",
        "outputId": "61f4be04-842d-47de-f559-54975aed9fc2"
      },
      "outputs": [],
      "source": [
        "matches.columns"
      ]
    },
    {
      "cell_type": "code",
      "execution_count": null,
      "metadata": {
        "id": "pqESWWpNwgLO"
      },
      "outputs": [],
      "source": [
        "matches = matches[['ID','City','WinningTeam','Team1','Team2']]"
      ]
    },
    {
      "cell_type": "code",
      "execution_count": null,
      "metadata": {
        "colab": {
          "base_uri": "https://localhost:8080/"
        },
        "id": "0RsjQf-CwxNf",
        "outputId": "2d763617-c384-422a-c880-a36e645d6ed9"
      },
      "outputs": [],
      "source": [
        "delivery.columns"
      ]
    },
    {
      "cell_type": "code",
      "execution_count": null,
      "metadata": {
        "id": "JdcpYf5Ow0OT"
      },
      "outputs": [],
      "source": [
        "delivery = delivery[['ID','innings','overs','ballnumber','total_run','player_out','isWicketDelivery','BattingTeam']]"
      ]
    },
    {
      "cell_type": "markdown",
      "metadata": {
        "id": "kNvrmUisxHl-"
      },
      "source": [
        "##inning 1 runs of matches like target_runs added -> match_df"
      ]
    },
    {
      "cell_type": "code",
      "execution_count": null,
      "metadata": {
        "colab": {
          "base_uri": "https://localhost:8080/"
        },
        "id": "SzYfu1DtOvCH",
        "outputId": "4eb40698-9948-44eb-8eaf-ef300bb560d0"
      },
      "outputs": [],
      "source": [
        "# total_runs per inning\n",
        "total_score_df = delivery.groupby(['ID','innings']).sum()['total_run'].reset_index()\n",
        "total_score_df.head(2)"
      ]
    },
    {
      "cell_type": "code",
      "execution_count": null,
      "metadata": {
        "colab": {
          "base_uri": "https://localhost:8080/"
        },
        "id": "bwF0Q1eWPGnk",
        "outputId": "de93194e-2caa-479d-a90c-b968621a9bb1"
      },
      "outputs": [],
      "source": [
        "# getting for only first inning\n",
        "total_score_df = total_score_df[total_score_df['innings'] == 1]\n",
        "total_score_df.head(2)"
      ]
    },
    {
      "cell_type": "code",
      "execution_count": null,
      "metadata": {
        "colab": {
          "base_uri": "https://localhost:8080/"
        },
        "id": "SbF-bEefPZiF",
        "outputId": "1e6350ce-a3de-4e75-c409-552e323dc044"
      },
      "outputs": [],
      "source": [
        "# adding this total_run column & matches columns to new match_df\n",
        "match_df = matches.merge(total_score_df[['ID','total_run']],left_on='ID',right_on='ID')\n",
        "match_df.head(2)"
      ]
    },
    {
      "cell_type": "markdown",
      "metadata": {
        "id": "X9yBFjxdzvBp"
      },
      "source": [
        "##match_df + delivery => delivery_df"
      ]
    },
    {
      "cell_type": "code",
      "execution_count": null,
      "metadata": {
        "id": "4AIPbcpRRaKd"
      },
      "outputs": [],
      "source": [
        "delivery_df = match_df.merge(delivery,on='ID')"
      ]
    },
    {
      "cell_type": "markdown",
      "metadata": {
        "id": "RZKjS0Z5zIfg"
      },
      "source": [
        "##teams & teamsname correction"
      ]
    },
    {
      "cell_type": "code",
      "execution_count": null,
      "metadata": {
        "colab": {
          "base_uri": "https://localhost:8080/"
        },
        "id": "rgTzAvGRP3Re",
        "outputId": "e80bdb58-39c4-4e9f-eeec-ad29817c2b55"
      },
      "outputs": [],
      "source": [
        "match_df['Team1'].unique()"
      ]
    },
    {
      "cell_type": "code",
      "execution_count": null,
      "metadata": {
        "id": "yNahJE96RNJT"
      },
      "outputs": [],
      "source": [
        "# changing name of teams which exists with different name\n",
        "match_df['Team1'] = match_df['Team1'].str.replace('Delhi Daredevils','Delhi Capitals')\n",
        "match_df['Team2'] = match_df['Team2'].str.replace('Delhi Daredevils','Delhi Capitals')\n",
        "\n",
        "match_df['Team1'] = match_df['Team1'].str.replace('Kings XI Punjab','Punjab Kings')\n",
        "match_df['Team2'] = match_df['Team2'].str.replace('Kings XI Punjab','Punjab Kings')\n",
        "\n",
        "match_df['Team1'] = match_df['Team1'].str.replace('Gujarat Lions','Gujarat Titans')\n",
        "match_df['Team2'] = match_df['Team2'].str.replace('Gujarat Lions','Gujarat Titans')\n",
        "\n",
        "match_df['Team1'] = match_df['Team1'].str.replace('Deccan Chargers','Sunrisers Hyderabad')\n",
        "match_df['Team2'] = match_df['Team2'].str.replace('Deccan Chargers','Sunrisers Hyderabad')\n",
        "\n",
        "#removing old teams which are not playing currently\n",
        "teams = ['Rajasthan Royals', 'Royal Challengers Bangalore',\n",
        "       'Sunrisers Hyderabad', 'Delhi Capitals', 'Chennai Super Kings',\n",
        "       'Gujarat Titans', 'Lucknow Super Giants', 'Kolkata Knight Riders',\n",
        "       'Punjab Kings', 'Mumbai Indians']\n",
        "\n",
        "match_df = match_df[(match_df['Team1'].isin(teams)) & (match_df['Team2'].isin(teams))]\n",
        "\n",
        "# In delivery_df\n",
        "delivery_df = delivery_df[(delivery_df['BattingTeam'].isin(teams))]"
      ]
    },
    {
      "cell_type": "markdown",
      "metadata": {
        "id": "H1oeJB1VvagW"
      },
      "source": [
        "##NaN in delivery_df"
      ]
    },
    {
      "cell_type": "code",
      "execution_count": null,
      "metadata": {
        "colab": {
          "base_uri": "https://localhost:8080/"
        },
        "id": "j-d1N6Giv-ej",
        "outputId": "8c2bb230-94f9-4e7c-e218-190ef606131f"
      },
      "outputs": [],
      "source": [
        "delivery_df.isna().sum()"
      ]
    },
    {
      "cell_type": "code",
      "execution_count": null,
      "metadata": {
        "id": "8-KIxuRZv-We"
      },
      "outputs": [],
      "source": [
        "delivery_df = delivery_df.dropna(subset=['City'])\n",
        "delivery_df = delivery_df.dropna(subset=['WinningTeam'])\n",
        "delivery_df['player_out'] = delivery_df['player_out'].fillna('0') # means no wicket on this ball"
      ]
    },
    {
      "cell_type": "markdown",
      "metadata": {
        "id": "5uvw5XbP2Qvl"
      },
      "source": [
        "##delivery_df for only inning=2 for current batting team prediction"
      ]
    },
    {
      "cell_type": "code",
      "execution_count": null,
      "metadata": {
        "id": "xhM2LnpkTv_E"
      },
      "outputs": [],
      "source": [
        "# taking data for only second innings\n",
        "delivery_df = delivery_df[delivery_df['innings'] == 2]"
      ]
    },
    {
      "cell_type": "markdown",
      "metadata": {
        "id": "DIIVvBGP2hnW"
      },
      "source": [
        "##creating some columns"
      ]
    },
    {
      "cell_type": "markdown",
      "metadata": {
        "id": "F862Z-VnI1HP"
      },
      "source": [
        "###BallingTeam"
      ]
    },
    {
      "cell_type": "code",
      "execution_count": null,
      "metadata": {
        "id": "EFwkS49f5QIS"
      },
      "outputs": [],
      "source": [
        "# now i need one column called 'bowling_team' which calculated by if batting team == Team1 return Team2 else Team1\n",
        "delivery_df['BallingTeam'] = np.where(delivery_df['BattingTeam'] == delivery_df['Team1'], delivery_df['Team2'], delivery_df['Team1'])\n"
      ]
    },
    {
      "cell_type": "markdown",
      "metadata": {
        "id": "aKwyiAa82l8n"
      },
      "source": [
        "###current_score : current runs on each ball"
      ]
    },
    {
      "cell_type": "code",
      "execution_count": null,
      "metadata": {
        "id": "qbFUMLfYUS2c"
      },
      "outputs": [],
      "source": [
        "# calculating current score on each ball\n",
        "delivery_df['current_score'] = delivery_df.groupby('ID')['total_run_y'].cumsum()"
      ]
    },
    {
      "cell_type": "markdown",
      "metadata": {
        "id": "TqKwGs1V2vzG"
      },
      "source": [
        "###runs_left : how much runs left to win = target - current"
      ]
    },
    {
      "cell_type": "code",
      "execution_count": null,
      "metadata": {
        "id": "z70qZnGnVUJt"
      },
      "outputs": [],
      "source": [
        "# calculating runs_left to win BattingTeam\n",
        "delivery_df['runs_left'] = delivery_df['total_run_x'] - delivery_df['current_score']"
      ]
    },
    {
      "cell_type": "code",
      "execution_count": null,
      "metadata": {
        "colab": {
          "base_uri": "https://localhost:8080/"
        },
        "id": "EIPgili_LEzQ",
        "outputId": "8f120aba-9fa4-495e-d8fe-f28f3d35d89e"
      },
      "outputs": [],
      "source": [
        "# prompt: somewhere runs_left column gives -ve values, so i want to find where is it\n",
        "\n",
        "delivery_df[delivery_df['runs_left'] < 0].head(2)\n",
        "\n",
        "# it is last ball of game where like team need 3 runs and player hit 6 so team get 6 runs at that time runs_left is giving -ve score\n",
        "# but it can be helpful to denote winning to model"
      ]
    },
    {
      "cell_type": "code",
      "execution_count": null,
      "metadata": {
        "id": "s7utq3K-L_sO"
      },
      "outputs": [],
      "source": [
        "# # prompt: remove this columns where runs_left have -ve values\n",
        "\n",
        "# delivery_df = delivery_df[delivery_df['runs_left'] >= 0]\n"
      ]
    },
    {
      "cell_type": "markdown",
      "metadata": {
        "id": "3znwA7rS3g5d"
      },
      "source": [
        "###ballnumbercorrection\n",
        "###balls_left : how many balls left from 20*6"
      ]
    },
    {
      "cell_type": "code",
      "execution_count": null,
      "metadata": {
        "colab": {
          "base_uri": "https://localhost:8080/"
        },
        "id": "tvrbXGi-N-ws",
        "outputId": "eaa35862-9c2a-45df-9d0e-0089d16df08b"
      },
      "outputs": [],
      "source": [
        "delivery_df['ballnumber'].unique()"
      ]
    },
    {
      "cell_type": "code",
      "execution_count": null,
      "metadata": {
        "id": "koAWB7IxPFR3"
      },
      "outputs": [],
      "source": [
        "# Drop rows where ballnumber > 6\n",
        "delivery_df = delivery_df[delivery_df['ballnumber'] <= 6]\n"
      ]
    },
    {
      "cell_type": "code",
      "execution_count": null,
      "metadata": {
        "colab": {
          "base_uri": "https://localhost:8080/"
        },
        "id": "zrQD5uRVWYDx",
        "outputId": "f158618f-7a7d-44ab-f5a4-f55b06602d81"
      },
      "outputs": [],
      "source": [
        "# calculating balls_left by (total_balls+6) - (over*6 + current_ball_number)\n",
        "delivery_df['balls_left'] = 120 - (delivery_df['overs']*6 + delivery_df['ballnumber'])"
      ]
    },
    {
      "cell_type": "markdown",
      "metadata": {
        "id": "v8LX28MF4R26"
      },
      "source": [
        "###wicket_left out of 10"
      ]
    },
    {
      "cell_type": "code",
      "execution_count": null,
      "metadata": {
        "id": "55aaA_yO-8S8"
      },
      "outputs": [],
      "source": [
        "# calculating wickets_left by 2 ways"
      ]
    },
    {
      "cell_type": "code",
      "execution_count": null,
      "metadata": {
        "colab": {
          "base_uri": "https://localhost:8080/"
        },
        "id": "OEF03D-MueOn",
        "outputId": "93f90847-f132-4fad-f88f-97ed9768ca3f"
      },
      "outputs": [],
      "source": [
        "# first way\n",
        "delivery_df['isWicketDelivery'].unique()"
      ]
    },
    {
      "cell_type": "code",
      "execution_count": null,
      "metadata": {
        "colab": {
          "base_uri": "https://localhost:8080/"
        },
        "id": "SIwOniqDu2b9",
        "outputId": "fb90c207-db5f-4736-f6f4-dd86f210862b"
      },
      "outputs": [],
      "source": [
        "delivery_df['wicket_left'] = 10 - delivery_df.groupby('ID')['isWicketDelivery'].cumsum()"
      ]
    },
    {
      "cell_type": "code",
      "execution_count": null,
      "metadata": {
        "colab": {
          "base_uri": "https://localhost:8080/"
        },
        "id": "XxA1yhvTyfsJ",
        "outputId": "0f7703e2-5cee-48b1-ff61-781f33a1c3fe"
      },
      "outputs": [],
      "source": [
        "# second way\n",
        "delivery_df['player_out'] = delivery_df['player_out'].apply(lambda x: x if x == '0' else '1') # name assigned to '1'\n",
        "delivery_df['player_out'] = delivery_df['player_out'].astype('int')\n",
        "wickets = delivery_df.groupby('ID')['player_out'].cumsum()\n",
        "delivery_df['wickets'] = 10 - wickets"
      ]
    },
    {
      "cell_type": "code",
      "execution_count": null,
      "metadata": {
        "colab": {
          "base_uri": "https://localhost:8080/"
        },
        "id": "DHZ1hugx0To2",
        "outputId": "5c70f1db-2ece-414c-eafd-ea55966dbceb"
      },
      "outputs": [],
      "source": [
        "delivery_df.shape"
      ]
    },
    {
      "cell_type": "code",
      "execution_count": null,
      "metadata": {
        "colab": {
          "base_uri": "https://localhost:8080/"
        },
        "id": "N3ltMmMR0Cea",
        "outputId": "bfff896f-e101-450d-bc47-93aacfa43a9d"
      },
      "outputs": [],
      "source": [
        "# Comparing 'wickets' and 'wicket_left' columns\n",
        "comparison_result = delivery_df['wickets'] == delivery_df['wicket_left']\n",
        "print(comparison_result.value_counts())\n"
      ]
    },
    {
      "cell_type": "code",
      "execution_count": null,
      "metadata": {
        "id": "V3PQS__-0XFH"
      },
      "outputs": [],
      "source": [
        "# so both method is same to find left wickets"
      ]
    },
    {
      "cell_type": "markdown",
      "metadata": {
        "id": "Njhrnwd84vS1"
      },
      "source": [
        "###run_rates\n",
        "####crr : current runrate<br>\n",
        "####rrr : required runrate"
      ]
    },
    {
      "cell_type": "code",
      "execution_count": null,
      "metadata": {
        "id": "2I_EZLGYHAma"
      },
      "outputs": [],
      "source": [
        "# rrr would be infinite value because of last ball-> balls_left=0 and so that rrr will be infinity\n",
        "# crr would be infinite value because of first ball-> balls_left=120 and so that crr will be infinity\n",
        "\n",
        "# remove row of last ball\n",
        "delivery_df = delivery_df[delivery_df['balls_left'] != 0]\n",
        "# remove row of first ball\n",
        "delivery_df = delivery_df[delivery_df['balls_left'] != 120]"
      ]
    },
    {
      "cell_type": "code",
      "execution_count": null,
      "metadata": {
        "id": "UDt8Vmsr0dxk"
      },
      "outputs": [],
      "source": [
        "# current_run_rate\n",
        "# crr = current_runs / current_overs\n",
        "delivery_df['crr'] = delivery_df['current_score'] * 6 / (120 - delivery_df['balls_left'])"
      ]
    },
    {
      "cell_type": "code",
      "execution_count": null,
      "metadata": {
        "id": "Jm4hHd4J02qa"
      },
      "outputs": [],
      "source": [
        "# required_run_rate\n",
        "# current rrr = (total_target_runs - current_runs) / (total_overs - current_over)\n",
        "delivery_df['rrr'] = (delivery_df['runs_left'] * 6) / delivery_df['balls_left']"
      ]
    },
    {
      "cell_type": "markdown",
      "metadata": {
        "id": "fbIjm3nv6HAt"
      },
      "source": [
        "###result: in inning 2 - win(1) if BattingTeam == WinningTeam\n",
        "because we are making prediction for second team"
      ]
    },
    {
      "cell_type": "code",
      "execution_count": null,
      "metadata": {
        "colab": {
          "base_uri": "https://localhost:8080/"
        },
        "id": "bQpmsdCY2ULC",
        "outputId": "baae5af0-2c6d-4d10-c6dc-5e390d65cce5"
      },
      "outputs": [],
      "source": [
        "# calculating result because here data is of inning 2 so batting team is can be WinningTeam or not\n",
        "delivery_df['result'] = np.where(delivery_df['WinningTeam'] == delivery_df['BattingTeam'], 1, 0)\n",
        "delivery_df.head()"
      ]
    },
    {
      "cell_type": "markdown",
      "metadata": {
        "id": "ZvsGzKjQ6kxe"
      },
      "source": [
        "#final_df : by extracting needed column and shuffling rows for model from delivery_df"
      ]
    },
    {
      "cell_type": "code",
      "execution_count": null,
      "metadata": {
        "colab": {
          "base_uri": "https://localhost:8080/"
        },
        "id": "DTygiwLB_2H9",
        "outputId": "30ea5884-1cb5-4810-bd78-ee5029078150"
      },
      "outputs": [],
      "source": [
        "# creating final df using needed columns\n",
        "final_df = delivery_df[['BattingTeam','BallingTeam','City','runs_left','balls_left','wicket_left','total_run_x','crr','rrr','result']]\n",
        "final_df.head(2)"
      ]
    },
    {
      "cell_type": "code",
      "execution_count": null,
      "metadata": {
        "colab": {
          "base_uri": "https://localhost:8080/"
        },
        "id": "UdzPWUGXAa2N",
        "outputId": "706e26fa-5eb6-4a84-e23c-f749b3e2dacc"
      },
      "outputs": [],
      "source": [
        "# here all data are arranged ball by ball so it can create bias, for this we are shuffling all rows\n",
        "final_df = final_df.sample(final_df.shape[0])\n",
        "final_df.head(2)"
      ]
    },
    {
      "cell_type": "markdown",
      "metadata": {
        "id": "CE-YnYvK7Mgp"
      },
      "source": [
        "#model creation using pipeline and Logistic regression"
      ]
    },
    {
      "cell_type": "code",
      "execution_count": null,
      "metadata": {
        "id": "_NapNQfzFE7H"
      },
      "outputs": [],
      "source": [
        "X = final_df.iloc[:,:-1]\n",
        "y = final_df.iloc[:,-1]\n",
        "X_train,X_test,y_train,y_test = train_test_split(X,y,test_size=0.2,random_state=1)"
      ]
    },
    {
      "cell_type": "code",
      "execution_count": null,
      "metadata": {
        "id": "Me_p4tyGDpIr"
      },
      "outputs": [],
      "source": [
        "trf1 = ColumnTransformer([\n",
        "    ('ohe',OneHotEncoder(sparse_output=False,drop='first'),['BattingTeam','BallingTeam','City'])\n",
        "],remainder='passthrough')"
      ]
    },
    {
      "cell_type": "code",
      "execution_count": null,
      "metadata": {
        "id": "X1zs3yaFEdA9"
      },
      "outputs": [],
      "source": [
        "pipe = Pipeline(steps=[\n",
        "        ('step1',trf1),\n",
        "        ('step2',LogisticRegression(solver='liblinear'))\n",
        "    ])"
      ]
    },
    {
      "cell_type": "code",
      "execution_count": null,
      "metadata": {
        "colab": {
          "base_uri": "https://localhost:8080/"
        },
        "id": "MKsVtIhqF4Q0",
        "outputId": "d72e6f17-ce79-46bb-ed75-bdb5c273e2bd"
      },
      "outputs": [],
      "source": [
        "pipe.fit(X_train,y_train)\n",
        "y_pred = pipe.predict(X_test)\n",
        "print(accuracy_score(y_test,y_pred))"
      ]
    },
    {
      "cell_type": "code",
      "execution_count": null,
      "metadata": {
        "colab": {
          "base_uri": "https://localhost:8080/"
        },
        "id": "fCeH-0YIGLIY",
        "outputId": "ec48b427-f0d6-4f67-f135-a2bec3f2d017"
      },
      "outputs": [],
      "source": [
        "pipe.predict_proba(X_test)[10]"
      ]
    },
    {
      "cell_type": "code",
      "execution_count": null,
      "metadata": {
        "colab": {
          "base_uri": "https://localhost:8080/"
        },
        "id": "zVx0s11VTdqL",
        "outputId": "b267aa3d-928f-454e-8b81-b6b1dae997b3"
      },
      "outputs": [],
      "source": [
        "pipe.predict(X_test)[10]"
      ]
    },
    {
      "cell_type": "markdown",
      "metadata": {
        "id": "5AWWdNEhm3B9"
      },
      "source": [
        "#visualization"
      ]
    },
    {
      "cell_type": "code",
      "execution_count": null,
      "metadata": {
        "colab": {
          "base_uri": "https://localhost:8080/",
          "height": 206
        },
        "id": "1V5BCIEPm65v",
        "outputId": "dbcb6996-3aa7-4b3f-fc44-a5c6e7a4f838"
      },
      "outputs": [],
      "source": [
        "final_df.head()"
      ]
    },
    {
      "cell_type": "code",
      "execution_count": null,
      "metadata": {
        "id": "qKCC9w-uTmWF"
      },
      "outputs": [],
      "source": [
        "def match_summary(row):\n",
        "    print(\"Batting Team : \" + row['BattingTeam'] + \" \\nBowling Team : \" + row['BallingTeam'] + \" \\nTarget : \" + str(row['total_run_x']))\n"
      ]
    },
    {
      "cell_type": "code",
      "execution_count": null,
      "metadata": {
        "colab": {
          "base_uri": "https://localhost:8080/"
        },
        "id": "oVcITDIbUJpf",
        "outputId": "95899165-5376-472c-d293-9c4f8b75482f"
      },
      "outputs": [],
      "source": [
        "match_summary(X_test.iloc[4])"
      ]
    },
    {
      "cell_type": "code",
      "execution_count": null,
      "metadata": {
        "id": "d2wiIGaKrQzP"
      },
      "outputs": [],
      "source": [
        "l = delivery_df['ID'].unique()"
      ]
    },
    {
      "cell_type": "code",
      "execution_count": null,
      "metadata": {
        "colab": {
          "base_uri": "https://localhost:8080/"
        },
        "id": "o1vfrqt4rqZZ",
        "outputId": "54fdbd71-fac0-4413-e5d4-e1f00df83867"
      },
      "outputs": [],
      "source": [
        "# choose id from here to visualize\n",
        "np.sort(l)"
      ]
    },
    {
      "cell_type": "code",
      "execution_count": null,
      "metadata": {
        "id": "mvMJCiTzBAun"
      },
      "outputs": [],
      "source": [
        "def match_summary(row):\n",
        "    print(\"Batting Team : \" + row['BattingTeam'] + \" \\nBowling Team : \" + row['BallingTeam'] + \" \\nTarget : \" + str(row['total_run_x']))"
      ]
    },
    {
      "cell_type": "code",
      "execution_count": null,
      "metadata": {
        "id": "eyWwt08YUYKY"
      },
      "outputs": [],
      "source": [
        "def match_progression(x_df,match_id,pipe):\n",
        "\n",
        "    t_df = x_df[x_df['ID'] == match_id] # fetching data of given id\n",
        "\n",
        "    t_df = t_df[(t_df['ballnumber'] == 6)] # row of last ball of over\n",
        "\n",
        "    temp_df = t_df[['BattingTeam','BallingTeam','City','runs_left','balls_left','wicket_left','total_run_x','crr','rrr']].dropna()\n",
        "    temp_df = temp_df[temp_df['balls_left'] != 0] # row of last ball removed\n",
        "    result = pipe.predict_proba(temp_df) # predict\n",
        "\n",
        "    temp_df['lose'] = np.round(result.T[0]*100,1) # roundoff by 1 and fetching lose prob\n",
        "    temp_df['win'] = np.round(result.T[1]*100,1) # roundoff by 1 and fetching win prob\n",
        "    temp_df['end_of_over'] = range(1,temp_df.shape[0]+1) # 1 to 19 overs\n",
        "\n",
        "    target = temp_df['total_run_x'].values[0]\n",
        "    runs = list(temp_df['runs_left'].values)\n",
        "    new_runs = runs[:]\n",
        "    runs.insert(0,target)\n",
        "    temp_df['runs_in_over'] = np.array(runs)[:-1] - np.array(new_runs)\n",
        "    wickets = list(temp_df['wicket_left'].values)\n",
        "    new_wickets = wickets[:]\n",
        "    new_wickets.insert(0,10)\n",
        "    wickets.append(0)\n",
        "    w = np.array(wickets)\n",
        "    nw = np.array(new_wickets)\n",
        "    temp_df['wickets_in_over'] = (nw - w)[0:temp_df.shape[0]]\n",
        "\n",
        "    match_summary(temp_df.iloc[-1])\n",
        "    actual_result = t_df['result']\n",
        "    print(\"Actual Result : \",actual_result.values[0])\n",
        "    print(\"Prediction : \",pipe.predict(temp_df)[0])\n",
        "    temp_df = temp_df[['end_of_over','runs_in_over','wickets_in_over','win','lose']]\n",
        "    return temp_df,target\n"
      ]
    },
    {
      "cell_type": "code",
      "execution_count": null,
      "metadata": {
        "colab": {
          "base_uri": "https://localhost:8080/",
          "height": 756
        },
        "id": "WRy08Y6sUtzA",
        "outputId": "cf4318b0-df96-4b16-cae5-7367af59e4e6"
      },
      "outputs": [],
      "source": [
        "temp_df,target = match_progression(delivery_df,336028,pipe)\n",
        "temp_df"
      ]
    },
    {
      "cell_type": "code",
      "execution_count": null,
      "metadata": {},
      "outputs": [],
      "source": [
        "# Corrected plotting code\n",
        "import matplotlib.pyplot as plt\n",
        "\n",
        "plt.figure(figsize=(18, 8))\n",
        "plt.plot(temp_df['end_of_over'].to_numpy(), temp_df['wickets_in_over'].to_numpy(), color='black', linewidth=3)\n",
        "plt.plot(temp_df['end_of_over'].to_numpy(), temp_df['win'].to_numpy(), color='#00a65a', linewidth=4)\n",
        "plt.plot(temp_df['end_of_over'].to_numpy(), temp_df['lose'].to_numpy(), color='red', linewidth=4)\n",
        "plt.bar(temp_df['end_of_over'].to_numpy(), temp_df['runs_in_over'].to_numpy())\n",
        "plt.title('Target : ' + str(target))\n",
        "plt.legend([\"Wickets out\", \"Win Probability\", \"Lose Probability\"])\n",
        "plt.show()"
      ]
    },
    {
      "cell_type": "code",
      "execution_count": null,
      "metadata": {
        "colab": {
          "base_uri": "https://localhost:8080/",
          "height": 699
        },
        "id": "ieVB82B4mX2v",
        "outputId": "8dfe1288-30d1-413b-e281-5749479294c2"
      },
      "outputs": [],
      "source": [
        "# import matplotlib.pyplot as plt\n",
        "# plt.figure(figsize=(18,8))\n",
        "# plt.plot(temp_df['end_of_over'],temp_df['wickets_in_over'],color='black',linewidth=3)\n",
        "# plt.plot(temp_df['end_of_over'],temp_df['win'],color='#00a65a',linewidth=4)\n",
        "# plt.plot(temp_df['end_of_over'],temp_df['lose'],color='red',linewidth=4)\n",
        "# plt.bar(temp_df['end_of_over'],temp_df['runs_in_over'])\n",
        "# plt.title('Target : ' + str(target))\n",
        "# plt.legend([\"Wickets out\",\"Win Probability\",\"Lose Probability\"])\n",
        "# plt.show()"
      ]
    },
    {
      "cell_type": "code",
      "execution_count": null,
      "metadata": {},
      "outputs": [],
      "source": [
        "pickle.dump(pipe,open('model.pkl','wb'))"
      ]
    },
    {
      "cell_type": "code",
      "execution_count": null,
      "metadata": {},
      "outputs": [],
      "source": [
        "final_df['City'].unique()"
      ]
    },
    {
      "cell_type": "code",
      "execution_count": null,
      "metadata": {},
      "outputs": [],
      "source": [
        "final_df['BattingTeam'].unique()"
      ]
    },
    {
      "cell_type": "code",
      "execution_count": null,
      "metadata": {},
      "outputs": [],
      "source": [
        "final_df.columns"
      ]
    }
  ],
  "metadata": {
    "colab": {
      "collapsed_sections": [
        "b77cVN7CDYme",
        "Bi_CGnnqvP4o",
        "4VkRxVwBwHYc",
        "kNvrmUisxHl-",
        "X9yBFjxdzvBp",
        "RZKjS0Z5zIfg",
        "H1oeJB1VvagW",
        "5uvw5XbP2Qvl",
        "DIIVvBGP2hnW",
        "F862Z-VnI1HP",
        "aKwyiAa82l8n",
        "TqKwGs1V2vzG",
        "3znwA7rS3g5d",
        "v8LX28MF4R26",
        "Njhrnwd84vS1",
        "fbIjm3nv6HAt",
        "ZvsGzKjQ6kxe",
        "CE-YnYvK7Mgp"
      ],
      "provenance": []
    },
    "kernelspec": {
      "display_name": "Python 3",
      "name": "python3"
    },
    "language_info": {
      "codemirror_mode": {
        "name": "ipython",
        "version": 3
      },
      "file_extension": ".py",
      "mimetype": "text/x-python",
      "name": "python",
      "nbconvert_exporter": "python",
      "pygments_lexer": "ipython3",
      "version": "3.10.13"
    }
  },
  "nbformat": 4,
  "nbformat_minor": 0
}
